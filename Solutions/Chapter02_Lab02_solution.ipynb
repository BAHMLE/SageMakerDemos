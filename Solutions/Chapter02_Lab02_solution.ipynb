{
 "cells": [
  {
   "cell_type": "markdown",
   "metadata": {
    "id": "b72ed51a"
   },
   "source": [
    "# LAB: ML with SageMaker and XGBoost\n",
    "\n",
    "NOTE: This notebook should be run in AWS SageMaker python environment."
   ]
  },
  {
   "cell_type": "code",
   "execution_count": null,
   "metadata": {
    "id": "413e4996"
   },
   "outputs": [],
   "source": [
    "import pandas as pd\n",
    "import numpy as np\n",
    "import boto3\n",
    "import urllib.request, json, os, sagemaker\n",
    "from sagemaker import get_execution_role\n",
    "from time import gmtime, strftime\n",
    "from sagemaker.predictor import csv_serializer\n",
    "from sagemaker.tuner import (\n",
    "    IntegerParameter,\n",
    "    CategoricalParameter,\n",
    "    ContinuousParameter,\n",
    "    HyperparameterTuner,\n",
    ")\n",
    "import seaborn as sns\n",
    "import pandas as pd\n",
    "import matplotlib.pyplot as plt"
   ]
  },
  {
   "cell_type": "code",
   "execution_count": null,
   "metadata": {
    "id": "d9cd6e00",
    "outputId": "6bb8b22a-608a-4eb7-a768-331065a0db86"
   },
   "outputs": [
    {
     "name": "stdout",
     "output_type": "stream",
     "text": [
      "Region: us-west-2\n"
     ]
    }
   ],
   "source": [
    "my_region = boto3.session.Session().region_name\n",
    "prefix = 'sagemaker/MLI-LAB-xgboost'\n",
    "\n",
    "print(\"Region: {}\".format(my_region))"
   ]
  },
  {
   "cell_type": "markdown",
   "metadata": {
    "id": "7307fcc9"
   },
   "source": [
    "Create boto3 object"
   ]
  },
  {
   "cell_type": "code",
   "execution_count": null,
   "metadata": {
    "id": "22f92600"
   },
   "outputs": [],
   "source": [
    "s3 = boto3.resource('s3')"
   ]
  },
  {
   "cell_type": "markdown",
   "metadata": {
    "id": "26b6d78f"
   },
   "source": [
    "Create your bucket, either manually or from notebook.\n",
    "\n",
    "Set bucket name"
   ]
  },
  {
   "cell_type": "code",
   "execution_count": null,
   "metadata": {
    "id": "0d23ed33"
   },
   "outputs": [],
   "source": [
    "bucket_name = 'bah-bucket-sagemaker-course-2023'"
   ]
  },
  {
   "cell_type": "code",
   "execution_count": null,
   "metadata": {
    "id": "3045418e",
    "outputId": "3503ad47-d006-436c-f70e-03545ce38c92"
   },
   "outputs": [
    {
     "name": "stdout",
     "output_type": "stream",
     "text": [
      "Bucket already exists!\n"
     ]
    }
   ],
   "source": [
    "try:\n",
    "    if  my_region == 'us-east-1':\n",
    "        if not s3.Bucket(bucket_name).creation_date:\n",
    "            s3.create_bucket(Bucket=bucket_name)\n",
    "            print('S3 bucket created successfully')\n",
    "        else:\n",
    "            print('Bucket already exists!')\n",
    "    else: \n",
    "        if not s3.Bucket(bucket_name).creation_date:\n",
    "            s3.create_bucket(Bucket=bucket_name, CreateBucketConfiguration={'LocationConstraint': my_region})\n",
    "            print('S3 bucket created successfully')\n",
    "        else:\n",
    "            print('Bucket already exists!')\n",
    "except Exception as e:\n",
    "    print('S3 error: ', e)"
   ]
  },
  {
   "cell_type": "markdown",
   "metadata": {
    "id": "1fe442f1"
   },
   "source": [
    "Load `pima-indians-diabetes.csv` dataset"
   ]
  },
  {
   "cell_type": "code",
   "execution_count": null,
   "metadata": {
    "id": "ad6c1c8c"
   },
   "outputs": [],
   "source": [
    "import os\n",
    "\n",
    "DATASET = 'pima-indians-diabetes.csv'\n",
    "DATA_FOLDER = 's3://bah-data'\n",
    "\n",
    "data = pd.read_csv(os.path.join(DATA_FOLDER, DATASET), header=None)"
   ]
  },
  {
   "cell_type": "markdown",
   "metadata": {
    "id": "b733af47"
   },
   "source": [
    "Preprocess dataset for modeling"
   ]
  },
  {
   "cell_type": "code",
   "execution_count": null,
   "metadata": {
    "id": "2936aafe",
    "outputId": "673e07d1-e539-4185-bd52-e853cf9dafeb"
   },
   "outputs": [
    {
     "data": {
      "text/html": [
       "<div>\n",
       "<style scoped>\n",
       "    .dataframe tbody tr th:only-of-type {\n",
       "        vertical-align: middle;\n",
       "    }\n",
       "\n",
       "    .dataframe tbody tr th {\n",
       "        vertical-align: top;\n",
       "    }\n",
       "\n",
       "    .dataframe thead th {\n",
       "        text-align: right;\n",
       "    }\n",
       "</style>\n",
       "<table border=\"1\" class=\"dataframe\">\n",
       "  <thead>\n",
       "    <tr style=\"text-align: right;\">\n",
       "      <th></th>\n",
       "      <th>0</th>\n",
       "      <th>1</th>\n",
       "      <th>2</th>\n",
       "      <th>3</th>\n",
       "      <th>4</th>\n",
       "      <th>5</th>\n",
       "      <th>6</th>\n",
       "      <th>7</th>\n",
       "      <th>8</th>\n",
       "    </tr>\n",
       "  </thead>\n",
       "  <tbody>\n",
       "    <tr>\n",
       "      <th>0</th>\n",
       "      <td>6</td>\n",
       "      <td>148</td>\n",
       "      <td>72</td>\n",
       "      <td>35</td>\n",
       "      <td>0</td>\n",
       "      <td>33.6</td>\n",
       "      <td>0.627</td>\n",
       "      <td>50</td>\n",
       "      <td>1</td>\n",
       "    </tr>\n",
       "    <tr>\n",
       "      <th>1</th>\n",
       "      <td>1</td>\n",
       "      <td>85</td>\n",
       "      <td>66</td>\n",
       "      <td>29</td>\n",
       "      <td>0</td>\n",
       "      <td>26.6</td>\n",
       "      <td>0.351</td>\n",
       "      <td>31</td>\n",
       "      <td>0</td>\n",
       "    </tr>\n",
       "    <tr>\n",
       "      <th>2</th>\n",
       "      <td>8</td>\n",
       "      <td>183</td>\n",
       "      <td>64</td>\n",
       "      <td>0</td>\n",
       "      <td>0</td>\n",
       "      <td>23.3</td>\n",
       "      <td>0.672</td>\n",
       "      <td>32</td>\n",
       "      <td>1</td>\n",
       "    </tr>\n",
       "    <tr>\n",
       "      <th>3</th>\n",
       "      <td>1</td>\n",
       "      <td>89</td>\n",
       "      <td>66</td>\n",
       "      <td>23</td>\n",
       "      <td>94</td>\n",
       "      <td>28.1</td>\n",
       "      <td>0.167</td>\n",
       "      <td>21</td>\n",
       "      <td>0</td>\n",
       "    </tr>\n",
       "    <tr>\n",
       "      <th>4</th>\n",
       "      <td>0</td>\n",
       "      <td>137</td>\n",
       "      <td>40</td>\n",
       "      <td>35</td>\n",
       "      <td>168</td>\n",
       "      <td>43.1</td>\n",
       "      <td>2.288</td>\n",
       "      <td>33</td>\n",
       "      <td>1</td>\n",
       "    </tr>\n",
       "  </tbody>\n",
       "</table>\n",
       "</div>"
      ],
      "text/plain": [
       "   0    1   2   3    4     5      6   7  8\n",
       "0  6  148  72  35    0  33.6  0.627  50  1\n",
       "1  1   85  66  29    0  26.6  0.351  31  0\n",
       "2  8  183  64   0    0  23.3  0.672  32  1\n",
       "3  1   89  66  23   94  28.1  0.167  21  0\n",
       "4  0  137  40  35  168  43.1  2.288  33  1"
      ]
     },
     "execution_count": 7,
     "metadata": {},
     "output_type": "execute_result"
    }
   ],
   "source": [
    "data.head(5)"
   ]
  },
  {
   "cell_type": "markdown",
   "metadata": {
    "id": "253528b7"
   },
   "source": [
    "Split data into train, validation and test datasets which you will upload to s3 bucket"
   ]
  },
  {
   "cell_type": "code",
   "execution_count": null,
   "metadata": {
    "id": "1f6389a0",
    "outputId": "0c77d206-f187-4149-ea07-02ccb5f644ae"
   },
   "outputs": [
    {
     "name": "stdout",
     "output_type": "stream",
     "text": [
      "(537, 9) (77, 9) (154, 9)\n"
     ]
    }
   ],
   "source": [
    "train_data, validation_data, test_data = np.split(\n",
    "    data.sample(frac=1, random_state=1729),\n",
    "    [int(0.7 * len(data)), int(0.9 * len(data))],\n",
    ")\n",
    "\n",
    "\n",
    "print(train_data.shape, test_data.shape, validation_data.shape)"
   ]
  },
  {
   "cell_type": "markdown",
   "metadata": {
    "id": "abe650a7"
   },
   "source": [
    "Upload train dataset to s3 bucket"
   ]
  },
  {
   "cell_type": "code",
   "execution_count": null,
   "metadata": {
    "id": "bb578732"
   },
   "outputs": [],
   "source": [
    "label_column_name = 8"
   ]
  },
  {
   "cell_type": "code",
   "execution_count": null,
   "metadata": {
    "id": "fbafc072"
   },
   "outputs": [],
   "source": [
    "label_column = train_data[label_column_name]\n",
    "train_data = train_data.drop([label_column_name], axis=1)\n",
    "train_data = pd.concat([label_column, train_data], axis=1)\n",
    "\n",
    "train_data.to_csv('train.csv', index=False, header=False)\n",
    "\n",
    "boto3.Session().resource('s3').Bucket(bucket_name).Object(os.path.join(prefix, 'train/train.csv')).upload_file('train.csv')\n",
    "s3_input_train = sagemaker.TrainingInput(s3_data='s3://{}/{}/train'.format(bucket_name, prefix), content_type='csv')"
   ]
  },
  {
   "cell_type": "markdown",
   "metadata": {
    "id": "e78db365"
   },
   "source": [
    "Upload validation dataset to s3 bucket"
   ]
  },
  {
   "cell_type": "code",
   "execution_count": null,
   "metadata": {
    "id": "748a59fc"
   },
   "outputs": [],
   "source": [
    "label_column = validation_data[label_column_name]\n",
    "validation_data = validation_data.drop([label_column_name], axis=1)\n",
    "validation_data = pd.concat([label_column, validation_data], axis=1)\n",
    "\n",
    "validation_data.to_csv('validation.csv', index=False, header=False)\n",
    "\n",
    "boto3.Session().resource(\"s3\").Bucket(bucket_name).Object(os.path.join(prefix, \"validation/validation.csv\")).upload_file(\"validation.csv\")\n",
    "\n",
    "s3_input_validation = sagemaker.TrainingInput(s3_data='s3://{}/{}/validation'.format(bucket_name, prefix), content_type='csv')"
   ]
  },
  {
   "cell_type": "markdown",
   "metadata": {
    "id": "ccd3b71d"
   },
   "source": [
    "Create SageMaker session"
   ]
  },
  {
   "cell_type": "code",
   "execution_count": null,
   "metadata": {
    "id": "d047e66d"
   },
   "outputs": [],
   "source": [
    "sess = sagemaker.Session()"
   ]
  },
  {
   "cell_type": "markdown",
   "metadata": {
    "id": "671dfb5a"
   },
   "source": [
    "Define IAM role"
   ]
  },
  {
   "cell_type": "code",
   "execution_count": null,
   "metadata": {
    "id": "8561fdb2"
   },
   "outputs": [],
   "source": [
    "role = get_execution_role()"
   ]
  },
  {
   "cell_type": "markdown",
   "metadata": {
    "id": "faa9d991"
   },
   "source": [
    "Specify XGBoost ECR container"
   ]
  },
  {
   "cell_type": "code",
   "execution_count": null,
   "metadata": {
    "id": "ef68473c"
   },
   "outputs": [],
   "source": [
    "xgboost_container = sagemaker.image_uris.retrieve(\"xgboost\", my_region, \"latest\")"
   ]
  },
  {
   "cell_type": "markdown",
   "metadata": {
    "id": "c84e3c49"
   },
   "source": [
    "Create XGBoost Estimator"
   ]
  },
  {
   "cell_type": "code",
   "execution_count": null,
   "metadata": {
    "id": "57f53b59",
    "outputId": "92e1becb-8c64-4280-ef5e-aa9b8fd7141d"
   },
   "outputs": [
    {
     "name": "stderr",
     "output_type": "stream",
     "text": [
      "train_instance_count has been renamed in sagemaker>=2.\n",
      "See: https://sagemaker.readthedocs.io/en/stable/v2.html for details.\n",
      "train_instance_type has been renamed in sagemaker>=2.\n",
      "See: https://sagemaker.readthedocs.io/en/stable/v2.html for details.\n"
     ]
    }
   ],
   "source": [
    "xgb = sagemaker.estimator.Estimator(xgboost_container,\n",
    "                                    role, \n",
    "                                    train_instance_count=1, \n",
    "                                    train_instance_type='ml.m4.xlarge',\n",
    "                                    output_path='s3://{}/{}/output'.format(bucket_name, prefix),\n",
    "                                    sagemaker_session=sess)"
   ]
  },
  {
   "cell_type": "markdown",
   "metadata": {
    "id": "f4b62faa"
   },
   "source": [
    "Set initial hyperparameters"
   ]
  },
  {
   "cell_type": "code",
   "execution_count": null,
   "metadata": {
    "id": "389bfdd1"
   },
   "outputs": [],
   "source": [
    "xgb.set_hyperparameters(max_depth=5,\n",
    "                        eta=0.2,\n",
    "                        gamma=4,\n",
    "                        min_child_weight=6,\n",
    "                        subsample=0.8,\n",
    "                        silent=0,\n",
    "                        objective='binary:logistic',\n",
    "                        num_round=100)"
   ]
  },
  {
   "cell_type": "markdown",
   "metadata": {
    "id": "1206623d"
   },
   "source": [
    "Fit the model"
   ]
  },
  {
   "cell_type": "code",
   "execution_count": null,
   "metadata": {
    "id": "449b5577",
    "outputId": "047617ca-d15c-40c6-b658-9f50e021cf49"
   },
   "outputs": [
    {
     "name": "stderr",
     "output_type": "stream",
     "text": [
      "INFO:sagemaker:Creating training-job with name: xgboost-2023-03-17-20-54-56-957\n"
     ]
    },
    {
     "name": "stdout",
     "output_type": "stream",
     "text": [
      "2023-03-17 20:54:57 Starting - Starting the training job......\n",
      "2023-03-17 20:55:39 Starting - Preparing the instances for training......\n",
      "2023-03-17 20:56:41 Downloading - Downloading input data...\n",
      "2023-03-17 20:57:05 Training - Downloading the training image...\n",
      "2023-03-17 20:57:51 Training - Training image download completed. Training in progress...\u001b[34mArguments: train\u001b[0m\n",
      "\u001b[34m[2023-03-17:20:58:06:INFO] Running standalone xgboost training.\u001b[0m\n",
      "\u001b[34m[2023-03-17:20:58:06:INFO] Path /opt/ml/input/data/validation does not exist!\u001b[0m\n",
      "\u001b[34m[2023-03-17:20:58:06:INFO] File size need to be processed in the node: 0.02mb. Available memory size in the node: 8607.31mb\u001b[0m\n",
      "\u001b[34m[2023-03-17:20:58:06:INFO] Determined delimiter of CSV input is ','\u001b[0m\n",
      "\u001b[34m[20:58:06] S3DistributionType set as FullyReplicated\u001b[0m\n",
      "\u001b[34m[20:58:06] 537x8 matrix with 4296 entries loaded from /opt/ml/input/data/train?format=csv&label_column=0&delimiter=,\u001b[0m\n",
      "\u001b[34m[20:58:06] src/tree/updater_prune.cc:74: tree pruning end, 1 roots, 12 extra nodes, 8 pruned nodes, max_depth=5\u001b[0m\n",
      "\u001b[34m[0]#011train-error:0.197393\u001b[0m\n",
      "\u001b[34m[20:58:06] src/tree/updater_prune.cc:74: tree pruning end, 1 roots, 10 extra nodes, 10 pruned nodes, max_depth=3\u001b[0m\n",
      "\u001b[34m[1]#011train-error:0.20298\u001b[0m\n",
      "\u001b[34m[20:58:06] src/tree/updater_prune.cc:74: tree pruning end, 1 roots, 12 extra nodes, 6 pruned nodes, max_depth=4\u001b[0m\n",
      "\u001b[34m[2]#011train-error:0.201117\u001b[0m\n",
      "\u001b[34m[20:58:06] src/tree/updater_prune.cc:74: tree pruning end, 1 roots, 10 extra nodes, 8 pruned nodes, max_depth=4\u001b[0m\n",
      "\u001b[34m[3]#011train-error:0.206704\u001b[0m\n",
      "\u001b[34m[20:58:06] src/tree/updater_prune.cc:74: tree pruning end, 1 roots, 6 extra nodes, 12 pruned nodes, max_depth=3\u001b[0m\n",
      "\u001b[34m[4]#011train-error:0.188082\u001b[0m\n",
      "\u001b[34m[20:58:06] src/tree/updater_prune.cc:74: tree pruning end, 1 roots, 12 extra nodes, 4 pruned nodes, max_depth=5\u001b[0m\n",
      "\u001b[34m[5]#011train-error:0.191806\u001b[0m\n",
      "\u001b[34m[20:58:06] src/tree/updater_prune.cc:74: tree pruning end, 1 roots, 8 extra nodes, 4 pruned nodes, max_depth=4\u001b[0m\n",
      "\u001b[34m[6]#011train-error:0.18622\u001b[0m\n",
      "\u001b[34m[20:58:06] src/tree/updater_prune.cc:74: tree pruning end, 1 roots, 8 extra nodes, 6 pruned nodes, max_depth=4\u001b[0m\n",
      "\u001b[34m[7]#011train-error:0.188082\u001b[0m\n",
      "\u001b[34m[20:58:06] src/tree/updater_prune.cc:74: tree pruning end, 1 roots, 10 extra nodes, 8 pruned nodes, max_depth=4\u001b[0m\n",
      "\u001b[34m[8]#011train-error:0.188082\u001b[0m\n",
      "\u001b[34m[20:58:06] src/tree/updater_prune.cc:74: tree pruning end, 1 roots, 4 extra nodes, 10 pruned nodes, max_depth=2\u001b[0m\n",
      "\u001b[34m[9]#011train-error:0.178771\u001b[0m\n",
      "\u001b[34m[20:58:06] src/tree/updater_prune.cc:74: tree pruning end, 1 roots, 10 extra nodes, 6 pruned nodes, max_depth=3\u001b[0m\n",
      "\u001b[34m[10]#011train-error:0.176909\u001b[0m\n",
      "\u001b[34m[20:58:06] src/tree/updater_prune.cc:74: tree pruning end, 1 roots, 10 extra nodes, 2 pruned nodes, max_depth=5\u001b[0m\n",
      "\u001b[34m[11]#011train-error:0.171322\u001b[0m\n",
      "\u001b[34m[20:58:06] src/tree/updater_prune.cc:74: tree pruning end, 1 roots, 6 extra nodes, 12 pruned nodes, max_depth=3\u001b[0m\n",
      "\u001b[34m[12]#011train-error:0.180633\u001b[0m\n",
      "\u001b[34m[20:58:06] src/tree/updater_prune.cc:74: tree pruning end, 1 roots, 10 extra nodes, 6 pruned nodes, max_depth=5\u001b[0m\n",
      "\u001b[34m[13]#011train-error:0.175047\u001b[0m\n",
      "\u001b[34m[20:58:06] src/tree/updater_prune.cc:74: tree pruning end, 1 roots, 2 extra nodes, 14 pruned nodes, max_depth=1\u001b[0m\n",
      "\u001b[34m[14]#011train-error:0.173184\u001b[0m\n",
      "\u001b[34m[20:58:06] src/tree/updater_prune.cc:74: tree pruning end, 1 roots, 2 extra nodes, 14 pruned nodes, max_depth=1\u001b[0m\n",
      "\u001b[34m[15]#011train-error:0.176909\u001b[0m\n",
      "\u001b[34m[20:58:06] src/tree/updater_prune.cc:74: tree pruning end, 1 roots, 6 extra nodes, 8 pruned nodes, max_depth=3\u001b[0m\n",
      "\u001b[34m[16]#011train-error:0.171322\u001b[0m\n",
      "\u001b[34m[20:58:06] src/tree/updater_prune.cc:74: tree pruning end, 1 roots, 2 extra nodes, 8 pruned nodes, max_depth=1\u001b[0m\n",
      "\u001b[34m[17]#011train-error:0.171322\u001b[0m\n",
      "\u001b[34m[20:58:06] src/tree/updater_prune.cc:74: tree pruning end, 1 roots, 8 extra nodes, 4 pruned nodes, max_depth=4\u001b[0m\n",
      "\u001b[34m[18]#011train-error:0.173184\u001b[0m\n",
      "\u001b[34m[20:58:06] src/tree/updater_prune.cc:74: tree pruning end, 1 roots, 2 extra nodes, 8 pruned nodes, max_depth=1\u001b[0m\n",
      "\u001b[34m[19]#011train-error:0.173184\u001b[0m\n",
      "\u001b[34m[20:58:06] src/tree/updater_prune.cc:74: tree pruning end, 1 roots, 0 extra nodes, 14 pruned nodes, max_depth=0\u001b[0m\n",
      "\u001b[34m[20]#011train-error:0.173184\u001b[0m\n",
      "\u001b[34m[20:58:06] src/tree/updater_prune.cc:74: tree pruning end, 1 roots, 2 extra nodes, 8 pruned nodes, max_depth=1\u001b[0m\n",
      "\u001b[34m[21]#011train-error:0.176909\u001b[0m\n",
      "\u001b[34m[20:58:06] src/tree/updater_prune.cc:74: tree pruning end, 1 roots, 4 extra nodes, 8 pruned nodes, max_depth=2\u001b[0m\n",
      "\u001b[34m[22]#011train-error:0.173184\u001b[0m\n",
      "\u001b[34m[20:58:06] src/tree/updater_prune.cc:74: tree pruning end, 1 roots, 8 extra nodes, 6 pruned nodes, max_depth=4\u001b[0m\n",
      "\u001b[34m[23]#011train-error:0.16946\u001b[0m\n",
      "\u001b[34m[20:58:06] src/tree/updater_prune.cc:74: tree pruning end, 1 roots, 0 extra nodes, 14 pruned nodes, max_depth=0\u001b[0m\n",
      "\u001b[34m[24]#011train-error:0.171322\u001b[0m\n",
      "\u001b[34m[20:58:06] src/tree/updater_prune.cc:74: tree pruning end, 1 roots, 4 extra nodes, 10 pruned nodes, max_depth=2\u001b[0m\n",
      "\u001b[34m[25]#011train-error:0.167598\u001b[0m\n",
      "\u001b[34m[20:58:06] src/tree/updater_prune.cc:74: tree pruning end, 1 roots, 0 extra nodes, 14 pruned nodes, max_depth=0\u001b[0m\n",
      "\u001b[34m[26]#011train-error:0.173184\u001b[0m\n",
      "\u001b[34m[20:58:06] src/tree/updater_prune.cc:74: tree pruning end, 1 roots, 0 extra nodes, 12 pruned nodes, max_depth=0\u001b[0m\n",
      "\u001b[34m[27]#011train-error:0.173184\u001b[0m\n",
      "\u001b[34m[20:58:06] src/tree/updater_prune.cc:74: tree pruning end, 1 roots, 0 extra nodes, 14 pruned nodes, max_depth=0\u001b[0m\n",
      "\u001b[34m[28]#011train-error:0.175047\u001b[0m\n",
      "\u001b[34m[20:58:06] src/tree/updater_prune.cc:74: tree pruning end, 1 roots, 0 extra nodes, 12 pruned nodes, max_depth=0\u001b[0m\n",
      "\u001b[34m[29]#011train-error:0.175047\u001b[0m\n",
      "\u001b[34m[20:58:06] src/tree/updater_prune.cc:74: tree pruning end, 1 roots, 4 extra nodes, 8 pruned nodes, max_depth=2\u001b[0m\n",
      "\u001b[34m[30]#011train-error:0.163873\u001b[0m\n",
      "\u001b[34m[20:58:06] src/tree/updater_prune.cc:74: tree pruning end, 1 roots, 6 extra nodes, 6 pruned nodes, max_depth=3\u001b[0m\n",
      "\u001b[34m[31]#011train-error:0.16946\u001b[0m\n",
      "\u001b[34m[20:58:06] src/tree/updater_prune.cc:74: tree pruning end, 1 roots, 10 extra nodes, 2 pruned nodes, max_depth=5\u001b[0m\n",
      "\u001b[34m[32]#011train-error:0.163873\u001b[0m\n",
      "\u001b[34m[20:58:06] src/tree/updater_prune.cc:74: tree pruning end, 1 roots, 0 extra nodes, 14 pruned nodes, max_depth=0\u001b[0m\n",
      "\u001b[34m[33]#011train-error:0.162011\u001b[0m\n",
      "\u001b[34m[20:58:06] src/tree/updater_prune.cc:74: tree pruning end, 1 roots, 6 extra nodes, 6 pruned nodes, max_depth=3\u001b[0m\n",
      "\u001b[34m[34]#011train-error:0.162011\u001b[0m\n",
      "\u001b[34m[20:58:06] src/tree/updater_prune.cc:74: tree pruning end, 1 roots, 0 extra nodes, 14 pruned nodes, max_depth=0\u001b[0m\n",
      "\u001b[34m[35]#011train-error:0.160149\u001b[0m\n",
      "\u001b[34m[20:58:06] src/tree/updater_prune.cc:74: tree pruning end, 1 roots, 0 extra nodes, 12 pruned nodes, max_depth=0\u001b[0m\n",
      "\u001b[34m[36]#011train-error:0.160149\u001b[0m\n",
      "\u001b[34m[20:58:06] src/tree/updater_prune.cc:74: tree pruning end, 1 roots, 4 extra nodes, 10 pruned nodes, max_depth=2\u001b[0m\n",
      "\u001b[34m[37]#011train-error:0.165736\u001b[0m\n",
      "\u001b[34m[20:58:06] src/tree/updater_prune.cc:74: tree pruning end, 1 roots, 0 extra nodes, 14 pruned nodes, max_depth=0\u001b[0m\n",
      "\u001b[34m[38]#011train-error:0.167598\u001b[0m\n",
      "\u001b[34m[20:58:06] src/tree/updater_prune.cc:74: tree pruning end, 1 roots, 0 extra nodes, 12 pruned nodes, max_depth=0\u001b[0m\n",
      "\u001b[34m[39]#011train-error:0.167598\u001b[0m\n",
      "\u001b[34m[20:58:06] src/tree/updater_prune.cc:74: tree pruning end, 1 roots, 8 extra nodes, 4 pruned nodes, max_depth=4\u001b[0m\n",
      "\u001b[34m[40]#011train-error:0.165736\u001b[0m\n",
      "\u001b[34m[20:58:06] src/tree/updater_prune.cc:74: tree pruning end, 1 roots, 0 extra nodes, 14 pruned nodes, max_depth=0\u001b[0m\n",
      "\u001b[34m[41]#011train-error:0.167598\u001b[0m\n",
      "\u001b[34m[20:58:06] src/tree/updater_prune.cc:74: tree pruning end, 1 roots, 0 extra nodes, 12 pruned nodes, max_depth=0\u001b[0m\n",
      "\u001b[34m[42]#011train-error:0.165736\u001b[0m\n",
      "\u001b[34m[20:58:06] src/tree/updater_prune.cc:74: tree pruning end, 1 roots, 6 extra nodes, 8 pruned nodes, max_depth=3\u001b[0m\n",
      "\u001b[34m[43]#011train-error:0.167598\u001b[0m\n",
      "\u001b[34m[20:58:06] src/tree/updater_prune.cc:74: tree pruning end, 1 roots, 0 extra nodes, 14 pruned nodes, max_depth=0\u001b[0m\n",
      "\u001b[34m[44]#011train-error:0.167598\u001b[0m\n",
      "\u001b[34m[20:58:06] src/tree/updater_prune.cc:74: tree pruning end, 1 roots, 0 extra nodes, 12 pruned nodes, max_depth=0\u001b[0m\n",
      "\u001b[34m[45]#011train-error:0.167598\u001b[0m\n",
      "\u001b[34m[20:58:06] src/tree/updater_prune.cc:74: tree pruning end, 1 roots, 0 extra nodes, 12 pruned nodes, max_depth=0\u001b[0m\n",
      "\u001b[34m[46]#011train-error:0.167598\u001b[0m\n",
      "\u001b[34m[20:58:06] src/tree/updater_prune.cc:74: tree pruning end, 1 roots, 0 extra nodes, 12 pruned nodes, max_depth=0\u001b[0m\n",
      "\u001b[34m[47]#011train-error:0.165736\u001b[0m\n",
      "\u001b[34m[20:58:06] src/tree/updater_prune.cc:74: tree pruning end, 1 roots, 0 extra nodes, 12 pruned nodes, max_depth=0\u001b[0m\n",
      "\u001b[34m[48]#011train-error:0.165736\u001b[0m\n",
      "\u001b[34m[20:58:06] src/tree/updater_prune.cc:74: tree pruning end, 1 roots, 6 extra nodes, 6 pruned nodes, max_depth=3\u001b[0m\n",
      "\u001b[34m[49]#011train-error:0.162011\u001b[0m\n",
      "\u001b[34m[20:58:06] src/tree/updater_prune.cc:74: tree pruning end, 1 roots, 0 extra nodes, 12 pruned nodes, max_depth=0\u001b[0m\n",
      "\u001b[34m[50]#011train-error:0.162011\u001b[0m\n",
      "\u001b[34m[20:58:06] src/tree/updater_prune.cc:74: tree pruning end, 1 roots, 8 extra nodes, 4 pruned nodes, max_depth=3\u001b[0m\n",
      "\u001b[34m[51]#011train-error:0.158287\u001b[0m\n",
      "\u001b[34m[20:58:06] src/tree/updater_prune.cc:74: tree pruning end, 1 roots, 0 extra nodes, 10 pruned nodes, max_depth=0\u001b[0m\n",
      "\u001b[34m[52]#011train-error:0.158287\u001b[0m\n",
      "\u001b[34m[20:58:06] src/tree/updater_prune.cc:74: tree pruning end, 1 roots, 0 extra nodes, 14 pruned nodes, max_depth=0\u001b[0m\n",
      "\u001b[34m[53]#011train-error:0.158287\u001b[0m\n",
      "\u001b[34m[20:58:06] src/tree/updater_prune.cc:74: tree pruning end, 1 roots, 0 extra nodes, 12 pruned nodes, max_depth=0\u001b[0m\n",
      "\u001b[34m[54]#011train-error:0.160149\u001b[0m\n",
      "\u001b[34m[20:58:06] src/tree/updater_prune.cc:74: tree pruning end, 1 roots, 0 extra nodes, 12 pruned nodes, max_depth=0\u001b[0m\n",
      "\u001b[34m[55]#011train-error:0.160149\u001b[0m\n",
      "\u001b[34m[20:58:06] src/tree/updater_prune.cc:74: tree pruning end, 1 roots, 0 extra nodes, 12 pruned nodes, max_depth=0\u001b[0m\n",
      "\u001b[34m[56]#011train-error:0.162011\u001b[0m\n",
      "\u001b[34m[20:58:06] src/tree/updater_prune.cc:74: tree pruning end, 1 roots, 0 extra nodes, 10 pruned nodes, max_depth=0\u001b[0m\n",
      "\u001b[34m[57]#011train-error:0.160149\u001b[0m\n",
      "\u001b[34m[20:58:06] src/tree/updater_prune.cc:74: tree pruning end, 1 roots, 0 extra nodes, 14 pruned nodes, max_depth=0\u001b[0m\n",
      "\u001b[34m[58]#011train-error:0.158287\u001b[0m\n",
      "\u001b[34m[20:58:06] src/tree/updater_prune.cc:74: tree pruning end, 1 roots, 0 extra nodes, 10 pruned nodes, max_depth=0\u001b[0m\n",
      "\u001b[34m[59]#011train-error:0.158287\u001b[0m\n",
      "\u001b[34m[20:58:06] src/tree/updater_prune.cc:74: tree pruning end, 1 roots, 0 extra nodes, 12 pruned nodes, max_depth=0\u001b[0m\n",
      "\u001b[34m[60]#011train-error:0.158287\u001b[0m\n",
      "\u001b[34m[20:58:06] src/tree/updater_prune.cc:74: tree pruning end, 1 roots, 0 extra nodes, 12 pruned nodes, max_depth=0\u001b[0m\n",
      "\u001b[34m[61]#011train-error:0.158287\u001b[0m\n",
      "\u001b[34m[20:58:06] src/tree/updater_prune.cc:74: tree pruning end, 1 roots, 0 extra nodes, 12 pruned nodes, max_depth=0\u001b[0m\n",
      "\u001b[34m[62]#011train-error:0.158287\u001b[0m\n",
      "\u001b[34m[20:58:06] src/tree/updater_prune.cc:74: tree pruning end, 1 roots, 0 extra nodes, 12 pruned nodes, max_depth=0\u001b[0m\n",
      "\u001b[34m[63]#011train-error:0.158287\u001b[0m\n",
      "\u001b[34m[20:58:06] src/tree/updater_prune.cc:74: tree pruning end, 1 roots, 4 extra nodes, 8 pruned nodes, max_depth=2\u001b[0m\n",
      "\u001b[34m[64]#011train-error:0.167598\u001b[0m\n",
      "\u001b[34m[20:58:06] src/tree/updater_prune.cc:74: tree pruning end, 1 roots, 0 extra nodes, 12 pruned nodes, max_depth=0\u001b[0m\n",
      "\u001b[34m[65]#011train-error:0.165736\u001b[0m\n",
      "\u001b[34m[20:58:06] src/tree/updater_prune.cc:74: tree pruning end, 1 roots, 0 extra nodes, 12 pruned nodes, max_depth=0\u001b[0m\n",
      "\u001b[34m[66]#011train-error:0.165736\u001b[0m\n",
      "\u001b[34m[20:58:06] src/tree/updater_prune.cc:74: tree pruning end, 1 roots, 0 extra nodes, 12 pruned nodes, max_depth=0\u001b[0m\n",
      "\u001b[34m[67]#011train-error:0.163873\u001b[0m\n",
      "\u001b[34m[20:58:06] src/tree/updater_prune.cc:74: tree pruning end, 1 roots, 0 extra nodes, 14 pruned nodes, max_depth=0\u001b[0m\n",
      "\u001b[34m[68]#011train-error:0.165736\u001b[0m\n",
      "\u001b[34m[20:58:06] src/tree/updater_prune.cc:74: tree pruning end, 1 roots, 0 extra nodes, 10 pruned nodes, max_depth=0\u001b[0m\n",
      "\u001b[34m[69]#011train-error:0.165736\u001b[0m\n",
      "\u001b[34m[20:58:06] src/tree/updater_prune.cc:74: tree pruning end, 1 roots, 0 extra nodes, 14 pruned nodes, max_depth=0\u001b[0m\n",
      "\u001b[34m[70]#011train-error:0.165736\u001b[0m\n",
      "\u001b[34m[20:58:06] src/tree/updater_prune.cc:74: tree pruning end, 1 roots, 6 extra nodes, 6 pruned nodes, max_depth=3\u001b[0m\n",
      "\u001b[34m[71]#011train-error:0.154562\u001b[0m\n",
      "\u001b[34m[20:58:06] src/tree/updater_prune.cc:74: tree pruning end, 1 roots, 0 extra nodes, 12 pruned nodes, max_depth=0\u001b[0m\n",
      "\u001b[34m[72]#011train-error:0.1527\u001b[0m\n",
      "\u001b[34m[20:58:06] src/tree/updater_prune.cc:74: tree pruning end, 1 roots, 0 extra nodes, 12 pruned nodes, max_depth=0\u001b[0m\n",
      "\u001b[34m[73]#011train-error:0.150838\u001b[0m\n",
      "\u001b[34m[20:58:06] src/tree/updater_prune.cc:74: tree pruning end, 1 roots, 0 extra nodes, 10 pruned nodes, max_depth=0\u001b[0m\n",
      "\u001b[34m[74]#011train-error:0.150838\u001b[0m\n",
      "\u001b[34m[20:58:06] src/tree/updater_prune.cc:74: tree pruning end, 1 roots, 0 extra nodes, 12 pruned nodes, max_depth=0\u001b[0m\n",
      "\u001b[34m[75]#011train-error:0.150838\u001b[0m\n",
      "\u001b[34m[20:58:06] src/tree/updater_prune.cc:74: tree pruning end, 1 roots, 0 extra nodes, 10 pruned nodes, max_depth=0\u001b[0m\n",
      "\u001b[34m[76]#011train-error:0.150838\u001b[0m\n",
      "\u001b[34m[20:58:06] src/tree/updater_prune.cc:74: tree pruning end, 1 roots, 0 extra nodes, 12 pruned nodes, max_depth=0\u001b[0m\n",
      "\u001b[34m[77]#011train-error:0.1527\u001b[0m\n",
      "\u001b[34m[20:58:06] src/tree/updater_prune.cc:74: tree pruning end, 1 roots, 0 extra nodes, 10 pruned nodes, max_depth=0\u001b[0m\n",
      "\u001b[34m[78]#011train-error:0.150838\u001b[0m\n",
      "\u001b[34m[20:58:06] src/tree/updater_prune.cc:74: tree pruning end, 1 roots, 0 extra nodes, 10 pruned nodes, max_depth=0\u001b[0m\n",
      "\u001b[34m[79]#011train-error:0.150838\u001b[0m\n",
      "\u001b[34m[20:58:06] src/tree/updater_prune.cc:74: tree pruning end, 1 roots, 0 extra nodes, 14 pruned nodes, max_depth=0\u001b[0m\n",
      "\u001b[34m[80]#011train-error:0.150838\u001b[0m\n",
      "\u001b[34m[20:58:06] src/tree/updater_prune.cc:74: tree pruning end, 1 roots, 0 extra nodes, 12 pruned nodes, max_depth=0\u001b[0m\n",
      "\u001b[34m[81]#011train-error:0.150838\u001b[0m\n",
      "\u001b[34m[20:58:06] src/tree/updater_prune.cc:74: tree pruning end, 1 roots, 0 extra nodes, 12 pruned nodes, max_depth=0\u001b[0m\n",
      "\u001b[34m[82]#011train-error:0.150838\u001b[0m\n",
      "\u001b[34m[20:58:06] src/tree/updater_prune.cc:74: tree pruning end, 1 roots, 0 extra nodes, 10 pruned nodes, max_depth=0\u001b[0m\n",
      "\u001b[34m[83]#011train-error:0.150838\u001b[0m\n",
      "\u001b[34m[20:58:06] src/tree/updater_prune.cc:74: tree pruning end, 1 roots, 0 extra nodes, 14 pruned nodes, max_depth=0\u001b[0m\n",
      "\u001b[34m[84]#011train-error:0.150838\u001b[0m\n",
      "\u001b[34m[20:58:06] src/tree/updater_prune.cc:74: tree pruning end, 1 roots, 0 extra nodes, 14 pruned nodes, max_depth=0\u001b[0m\n",
      "\u001b[34m[85]#011train-error:0.150838\u001b[0m\n",
      "\u001b[34m[20:58:06] src/tree/updater_prune.cc:74: tree pruning end, 1 roots, 6 extra nodes, 6 pruned nodes, max_depth=3\u001b[0m\n",
      "\u001b[34m[86]#011train-error:0.150838\u001b[0m\n",
      "\u001b[34m[20:58:06] src/tree/updater_prune.cc:74: tree pruning end, 1 roots, 0 extra nodes, 10 pruned nodes, max_depth=0\u001b[0m\n",
      "\u001b[34m[87]#011train-error:0.150838\u001b[0m\n",
      "\u001b[34m[20:58:06] src/tree/updater_prune.cc:74: tree pruning end, 1 roots, 0 extra nodes, 12 pruned nodes, max_depth=0\u001b[0m\n",
      "\u001b[34m[88]#011train-error:0.150838\u001b[0m\n",
      "\u001b[34m[20:58:06] src/tree/updater_prune.cc:74: tree pruning end, 1 roots, 0 extra nodes, 12 pruned nodes, max_depth=0\u001b[0m\n",
      "\u001b[34m[89]#011train-error:0.1527\u001b[0m\n",
      "\u001b[34m[20:58:06] src/tree/updater_prune.cc:74: tree pruning end, 1 roots, 0 extra nodes, 14 pruned nodes, max_depth=0\u001b[0m\n",
      "\u001b[34m[90]#011train-error:0.156425\u001b[0m\n",
      "\u001b[34m[20:58:06] src/tree/updater_prune.cc:74: tree pruning end, 1 roots, 0 extra nodes, 14 pruned nodes, max_depth=0\u001b[0m\n",
      "\u001b[34m[91]#011train-error:0.156425\u001b[0m\n",
      "\u001b[34m[20:58:06] src/tree/updater_prune.cc:74: tree pruning end, 1 roots, 6 extra nodes, 4 pruned nodes, max_depth=3\u001b[0m\n",
      "\u001b[34m[92]#011train-error:0.154562\u001b[0m\n",
      "\u001b[34m[20:58:06] src/tree/updater_prune.cc:74: tree pruning end, 1 roots, 0 extra nodes, 12 pruned nodes, max_depth=0\u001b[0m\n",
      "\u001b[34m[93]#011train-error:0.150838\u001b[0m\n",
      "\u001b[34m[20:58:06] src/tree/updater_prune.cc:74: tree pruning end, 1 roots, 0 extra nodes, 10 pruned nodes, max_depth=0\u001b[0m\n",
      "\u001b[34m[94]#011train-error:0.148976\u001b[0m\n",
      "\u001b[34m[20:58:06] src/tree/updater_prune.cc:74: tree pruning end, 1 roots, 0 extra nodes, 14 pruned nodes, max_depth=0\u001b[0m\n",
      "\u001b[34m[95]#011train-error:0.150838\u001b[0m\n",
      "\u001b[34m[20:58:06] src/tree/updater_prune.cc:74: tree pruning end, 1 roots, 0 extra nodes, 12 pruned nodes, max_depth=0\u001b[0m\n",
      "\u001b[34m[96]#011train-error:0.1527\u001b[0m\n",
      "\u001b[34m[20:58:06] src/tree/updater_prune.cc:74: tree pruning end, 1 roots, 0 extra nodes, 12 pruned nodes, max_depth=0\u001b[0m\n",
      "\u001b[34m[97]#011train-error:0.150838\u001b[0m\n",
      "\u001b[34m[20:58:06] src/tree/updater_prune.cc:74: tree pruning end, 1 roots, 0 extra nodes, 14 pruned nodes, max_depth=0\u001b[0m\n",
      "\u001b[34m[98]#011train-error:0.1527\u001b[0m\n",
      "\u001b[34m[20:58:06] src/tree/updater_prune.cc:74: tree pruning end, 1 roots, 0 extra nodes, 12 pruned nodes, max_depth=0\u001b[0m\n",
      "\u001b[34m[99]#011train-error:0.150838\u001b[0m\n",
      "\n",
      "2023-03-17 20:58:22 Uploading - Uploading generated training model\n",
      "2023-03-17 20:58:22 Completed - Training job completed\n",
      "Training seconds: 102\n",
      "Billable seconds: 102\n"
     ]
    }
   ],
   "source": [
    "xgb.fit({'train': s3_input_train})"
   ]
  },
  {
   "cell_type": "markdown",
   "metadata": {
    "id": "4527cd79"
   },
   "source": [
    "Hyperparameters tuninig - tune hyperparameters (whatever you want) from XGBoost Algorithm"
   ]
  },
  {
   "cell_type": "code",
   "execution_count": null,
   "metadata": {
    "id": "edaa4b95"
   },
   "outputs": [],
   "source": [
    "objective_metric_name = \"validation:auc\"\n",
    "MAX_JOBS = 3\n",
    "MAX_PARALLEL_JOBS = 4\n",
    "STRATEGY = 'Random'\n",
    "SCALING_TYPE = 'Logarithmic'"
   ]
  },
  {
   "cell_type": "code",
   "execution_count": null,
   "metadata": {
    "id": "cc6bbea9",
    "outputId": "690da766-81e3-4652-c44b-813ee0a16555"
   },
   "outputs": [
    {
     "name": "stderr",
     "output_type": "stream",
     "text": [
      "INFO:sagemaker:Creating hyperparameter tuning job with name: xgb-linsearch-20230317-21-09-16\n"
     ]
    },
    {
     "name": "stdout",
     "output_type": "stream",
     "text": [
      "................................................................!\n"
     ]
    }
   ],
   "source": [
    "tuninig_job_name = \"xgb-linsearch-\" + strftime(\"%Y%m%d-%H-%M-%S\", gmtime())\n",
    "\n",
    "hyperparameter_ranges_linear = {\n",
    "    \"alpha\": ContinuousParameter(0.01, 0.5, scaling_type=SCALING_TYPE),\n",
    "    \"lambda\": ContinuousParameter(0.05, 0.5, scaling_type=SCALING_TYPE),\n",
    "}\n",
    "\n",
    "tuner_linear = HyperparameterTuner(\n",
    "    xgb,\n",
    "    objective_metric_name,\n",
    "    hyperparameter_ranges_linear,\n",
    "    max_jobs=MAX_JOBS,\n",
    "    max_parallel_jobs=MAX_PARALLEL_JOBS,\n",
    "    strategy=STRATEGY,\n",
    ")\n",
    "\n",
    "tuner_linear.fit(\n",
    "    {\"train\": s3_input_train, \n",
    "     \"validation\": s3_input_validation},\n",
    "    include_cls_metadata=False,\n",
    "    job_name=tuninig_job_name)"
   ]
  },
  {
   "cell_type": "markdown",
   "metadata": {
    "id": "636d238f"
   },
   "source": [
    "Show all results as DataFrame from tuninig"
   ]
  },
  {
   "cell_type": "code",
   "execution_count": null,
   "metadata": {
    "id": "ec1fb7f8"
   },
   "outputs": [],
   "source": [
    "tuner = sagemaker.HyperparameterTuningJobAnalytics(tuninig_job_name)\n",
    "\n",
    "full_df = tuner.dataframe()\n",
    "\n",
    "if len(full_df) > 0:\n",
    "    df = full_df[full_df[\"FinalObjectiveValue\"] > -float(\"inf\")]\n",
    "    df"
   ]
  },
  {
   "cell_type": "markdown",
   "metadata": {
    "id": "08bdf74c"
   },
   "source": [
    "Terminate your resources"
   ]
  },
  {
   "cell_type": "code",
   "execution_count": null,
   "metadata": {
    "id": "fe3f0e67",
    "outputId": "45d45ec1-921d-48b2-fcea-2459febd837a"
   },
   "outputs": [
    {
     "data": {
      "text/plain": [
       "[{'ResponseMetadata': {'RequestId': 'D7EFCWCMA4PZ5DRF',\n",
       "   'HostId': 'acN5Q+rPaG7igm4mX7JEEoy1w146r6Gehc07nDxH3B/5qFxYqL15HBueaHXLMGRJq0Zst9vPIFE=',\n",
       "   'HTTPStatusCode': 200,\n",
       "   'HTTPHeaders': {'x-amz-id-2': 'acN5Q+rPaG7igm4mX7JEEoy1w146r6Gehc07nDxH3B/5qFxYqL15HBueaHXLMGRJq0Zst9vPIFE=',\n",
       "    'x-amz-request-id': 'D7EFCWCMA4PZ5DRF',\n",
       "    'date': 'Fri, 17 Mar 2023 21:28:05 GMT',\n",
       "    'content-type': 'application/xml',\n",
       "    'transfer-encoding': 'chunked',\n",
       "    'server': 'AmazonS3',\n",
       "    'connection': 'close'},\n",
       "   'RetryAttempts': 0},\n",
       "  'Deleted': [{'Key': 'sagemaker/MLI-Lab_solution/output/linear-learner-2023-03-17-21-04-59-395/profiler-output/system/incremental/2023031721/1679087160.algo-1.json'},\n",
       "   {'Key': 'sagemaker/MLI-Lab_solution/output/linear-learner-2023-03-17-21-12-05-625/profiler-output/system/incremental/2023031721/1679087760.algo-1.json'},\n",
       "   {'Key': 'sagemaker/MLI-Lab_solution/output/linear-learner-2023-03-17-21-21-59-547/profiler-output/system/incremental/2023031721/1679088240.algo-1.json'},\n",
       "   {'Key': 'sagemaker/MLI-Lab_solution/output/linear-learner-2023-03-17-16-08-58-046/profiler-output/system/incremental/2023031716/1679069400.algo-1.json'},\n",
       "   {'Key': 'sagemaker/MLI-LAB-xgboost/output/xgb-linsearch-20230317-21-09-16-003-2d2ae3b2/output/model.tar.gz'},\n",
       "   {'Key': 'sagemaker/MLI-Lab_solution/output/linear-learner-2023-03-17-21-04-59-395/profiler-output/framework/training_job_end.ts'},\n",
       "   {'Key': 'sagemaker/MLI-Lab_solution/output/linear-learner-2023-03-17-21-04-59-395/profiler-output/system/incremental/2023031721/1679087280.algo-1.json'},\n",
       "   {'Key': 'sagemaker/MLI-Lab_solution/output/linear-learner-2023-03-17-21-21-59-547/output/model.tar.gz'},\n",
       "   {'Key': 'sagemaker/MLI-LAB-xgboost/output/xgb-linsearch-20230317-21-09-16-001-966530af/output/model.tar.gz'},\n",
       "   {'Key': 'sagemaker/MLI-Lab_solution/output/linear-learner-2023-03-17-16-08-58-046/profiler-output/system/training_job_end.ts'},\n",
       "   {'Key': 'sagemaker/MLI-Lab_solution/output/linear-learner-2023-03-17-16-08-58-046/profiler-output/system/incremental/2023031716/1679069460.algo-1.json'},\n",
       "   {'Key': 'sagemaker/MLI-Lab_solution/output/linear-learner-2023-03-17-21-14-18-103/profiler-output/system/incremental/2023031721/1679087700.algo-1.json'},\n",
       "   {'Key': 'sagemaker/MLI-Lab_solution/output/linear-learner-2023-03-17-16-52-13-384/profiler-output/system/incremental/2023031716/1679072160.algo-1.json'},\n",
       "   {'Key': 'sagemaker/MLI-Lab_solution/output/linear-learner-2023-03-17-16-52-13-384/profiler-output/framework/training_job_end.ts'},\n",
       "   {'Key': 'sagemaker/MLI-Lab_solution/output/linear-learner-2023-03-17-21-14-18-103/debug-output/training_job_end.ts'},\n",
       "   {'Key': 'sagemaker/MLI-Lab_solution/output/linear-learner-2023-03-17-16-08-58-046/debug-output/training_job_end.ts'},\n",
       "   {'Key': 'sagemaker/MLI-Lab_solution/output/linear-learner-2023-03-17-21-14-18-103/profiler-output/system/incremental/2023031721/1679087820.algo-1.json'},\n",
       "   {'Key': 'sagemaker/MLI-LAB-xgboost/output/xgboost-2023-03-17-20-54-56-957/profiler-output/framework/training_job_end.ts'},\n",
       "   {'Key': 'sagemaker/MLI-Lab_solution/output/linear-learner-2023-03-17-21-21-59-547/profiler-output/framework/training_job_end.ts'},\n",
       "   {'Key': 'sagemaker/MLI-Lab_solution/output/linear-learner-2023-03-17-16-52-13-384/profiler-output/system/training_job_end.ts'},\n",
       "   {'Key': 'sagemaker/MLI-Lab_solution/output/linear-learner-2023-03-17-16-08-58-046/profiler-output/framework/training_job_end.ts'},\n",
       "   {'Key': 'sagemaker/MLI-Lab_solution/output/linear-learner-2023-03-17-21-21-59-547/profiler-output/system/incremental/2023031721/1679088300.algo-1.json'},\n",
       "   {'Key': 'sagemaker/MLI-Lab_solution/output/linear-learner-2023-03-17-16-52-13-384/debug-output/training_job_end.ts'},\n",
       "   {'Key': 'sagemaker/MLI-LAB-xgboost/output/xgboost-2023-03-17-20-54-56-957/profiler-output/system/training_job_end.ts'},\n",
       "   {'Key': 'sagemaker/MLI-Lab_solution/output/linear-learner-2023-03-17-21-12-05-625/debug-output/training_job_end.ts'},\n",
       "   {'Key': 'sagemaker/MLI-Lab_solution/train/train.csv'},\n",
       "   {'Key': 'sagemaker/MLI-Lab_solution/output/linear-learner-2023-03-17-16-52-13-384/profiler-output/system/incremental/2023031716/1679072040.algo-1.json'},\n",
       "   {'Key': 'sagemaker/MLI-Lab_solution/output/linear-learner-2023-03-17-21-12-05-625/profiler-output/system/incremental/2023031721/1679087700.algo-1.json'},\n",
       "   {'Key': 'sagemaker/MLI-LAB-xgboost/output/xgboost-2023-03-17-20-54-56-957/profiler-output/system/incremental/2023031720/1679086560.algo-1.json'},\n",
       "   {'Key': 'sagemaker/MLI-LAB-xgboost/validation/validation.csv'},\n",
       "   {'Key': 'sagemaker/MLI-Lab_solution/output/linear-learner-2023-03-17-21-14-18-103/profiler-output/system/incremental/2023031721/1679087760.algo-1.json'},\n",
       "   {'Key': 'sagemaker/MLI-Lab_solution/output/linear-learner-2023-03-17-21-12-05-625/profiler-output/system/incremental/2023031721/1679087820.algo-1.json'},\n",
       "   {'Key': 'sagemaker/MLI-LAB-xgboost/output/xgboost-2023-03-17-20-54-56-957/output/model.tar.gz'},\n",
       "   {'Key': 'sagemaker/MLI-Lab_solution/output/linear-learner-2023-03-17-21-04-59-395/profiler-output/system/training_job_end.ts'},\n",
       "   {'Key': 'sagemaker/MLI-Lab_solution/output/linear-learner-2023-03-17-16-52-13-384/profiler-output/system/incremental/2023031716/1679072100.algo-1.json'},\n",
       "   {'Key': 'sagemaker/MLI-Lab_solution/output/linear-learner-2023-03-17-21-21-59-547/profiler-output/system/incremental/2023031721/1679088360.algo-1.json'},\n",
       "   {'Key': 'sagemaker/MLI-LAB-xgboost/train/train.csv'},\n",
       "   {'Key': 'sagemaker/MLI-LAB-xgboost/output/xgboost-2023-03-17-20-54-56-957/profiler-output/system/incremental/2023031720/1679086680.algo-1.json'},\n",
       "   {'Key': 'sagemaker/MLI-Lab_solution/validation/validation.csv'},\n",
       "   {'Key': 'sagemaker/MLI-Lab_solution/output/linear-learner-2023-03-17-21-14-18-103/profiler-output/framework/training_job_end.ts'},\n",
       "   {'Key': 'sagemaker/MLI-Lab_solution/output/linear-learner-2023-03-17-21-21-59-547/profiler-output/system/training_job_end.ts'},\n",
       "   {'Key': 'sagemaker/MLI-Lab_solution/output/linear-learner-2023-03-17-21-12-05-625/profiler-output/framework/training_job_end.ts'},\n",
       "   {'Key': 'sagemaker/MLI-Lab_solution/output/linear-learner-2023-03-17-21-04-59-395/debug-output/training_job_end.ts'},\n",
       "   {'Key': 'sagemaker/MLI-Lab_solution/output/linear-learner-2023-03-17-21-04-59-395/profiler-output/system/incremental/2023031721/1679087220.algo-1.json'},\n",
       "   {'Key': 'sagemaker/MLI-Lab_solution/output/linear-learner-2023-03-17-21-21-59-547/debug-output/training_job_end.ts'},\n",
       "   {'Key': 'sagemaker/MLI-Lab_solution/output/linear-learner-2023-03-17-21-14-18-103/profiler-output/system/training_job_end.ts'},\n",
       "   {'Key': 'sagemaker/MLI-Lab_solution/output/linear-learner-2023-03-17-21-12-05-625/profiler-output/system/training_job_end.ts'},\n",
       "   {'Key': 'sagemaker/MLI-Lab_solution/output/linear-learner-2023-03-17-16-08-58-046/profiler-output/system/incremental/2023031716/1679069520.algo-1.json'},\n",
       "   {'Key': 'sagemaker/MLI-LAB-xgboost/output/xgboost-2023-03-17-20-54-56-957/debug-output/training_job_end.ts'},\n",
       "   {'Key': 'sagemaker/MLI-LAB-xgboost/output/xgb-linsearch-20230317-21-09-16-002-6c0f42a3/output/model.tar.gz'},\n",
       "   {'Key': 'sagemaker/MLI-LAB-xgboost/output/xgboost-2023-03-17-20-54-56-957/profiler-output/system/incremental/2023031720/1679086620.algo-1.json'}]}]"
      ]
     },
     "execution_count": 27,
     "metadata": {},
     "output_type": "execute_result"
    }
   ],
   "source": [
    "bucket_to_delete = boto3.resource('s3').Bucket(bucket_name)\n",
    "bucket_to_delete.objects.all().delete()"
   ]
  },
  {
   "cell_type": "code",
   "execution_count": null,
   "metadata": {
    "id": "b7fba70d"
   },
   "outputs": [],
   "source": []
  }
 ],
 "metadata": {
  "colab": {
   "provenance": []
  },
  "kernelspec": {
   "display_name": "Python 3",
   "language": "python",
   "name": "python3"
  },
  "language_info": {
   "codemirror_mode": {
    "name": "ipython",
    "version": 3
   },
   "file_extension": ".py",
   "mimetype": "text/x-python",
   "name": "python",
   "nbconvert_exporter": "python",
   "pygments_lexer": "ipython3",
   "version": "3.8.3"
  }
 },
 "nbformat": 4,
 "nbformat_minor": 5
}

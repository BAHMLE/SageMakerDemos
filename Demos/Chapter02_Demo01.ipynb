{
 "cells": [
  {
   "cell_type": "markdown",
   "metadata": {
    "id": "1ca7c3d3"
   },
   "source": [
    "# LECTURE: Machine Learning with SageMaker\n",
    "---\n",
    "## Overview\n",
    "The purpose of this lecture is to run built-in XGBoost algorithm for classification of breast cancer dataset, evaluate the model, do hypertuning and deploy it.\n",
    "  "
   ]
  },
  {
   "cell_type": "markdown",
   "metadata": {
    "id": "4df082eb"
   },
   "source": [
    "### Install and import required Libraries"
   ]
  },
  {
   "cell_type": "code",
   "execution_count": null,
   "metadata": {
    "id": "67633c4a",
    "outputId": "e2595477-236d-4b8f-90e4-17826b65dcb4"
   },
   "outputs": [
    {
     "name": "stdout",
     "output_type": "stream",
     "text": [
      "Collecting package metadata (current_repodata.json): done\n",
      "Solving environment: failed with repodata from current_repodata.json, will retry with next repodata source.\n",
      "Collecting package metadata (repodata.json): done\n",
      "Solving environment: \\ \n",
      "\n",
      "Updating pandas is constricted by \n",
      "\n",
      "anaconda -> requires pandas==1.0.5=py38h959d312_0\n",
      "\n",
      "If you are sure you want an update of your package either try `conda update --all` or install a specific version of the package you want using `conda install <pkg>=<version>`\n",
      "\n",
      "done\n",
      "\n",
      "## Package Plan ##\n",
      "\n",
      "  environment location: /opt/anaconda3\n",
      "\n",
      "  added / updated specs:\n",
      "    - pandas\n",
      "\n",
      "\n",
      "The following packages will be downloaded:\n",
      "\n",
      "    package                    |            build\n",
      "    ---------------------------|-----------------\n",
      "    backports.functools_lru_cache-1.6.4|     pyhd3eb1b0_0           9 KB\n",
      "    backports.tempfile-1.0     |     pyhd3eb1b0_1          11 KB\n",
      "    cctools-949.0.1            |      h9abeeb2_23          20 KB\n",
      "    cctools_osx-64-949.0.1     |      hc7db93f_23         1.3 MB\n",
      "    conda-22.9.0               |   py38hecd8cb5_0         884 KB\n",
      "    conda-build-3.24.0         |   py38hecd8cb5_0         570 KB\n",
      "    conda-package-handling-2.0.2|   py38hecd8cb5_0         268 KB\n",
      "    conda-package-streaming-0.7.0|   py38hecd8cb5_0          27 KB\n",
      "    ld64-530                   |      h20443b4_23          18 KB\n",
      "    ld64_osx-64-530            |      h70f3046_23         919 KB\n",
      "    ldid-2.1.2                 |       h2d21305_2          54 KB\n",
      "    libllvm12-12.0.0           |       h9b2ccf5_3        19.2 MB\n",
      "    patch-2.7.6                |    h1de35cc_1001         128 KB\n",
      "    retrying-1.3.3             |     pyhd3eb1b0_2          14 KB\n",
      "    tapi-1000.10.8             |       ha1b3eb9_0         4.2 MB\n",
      "    tomli-2.0.1                |   py38hecd8cb5_0          25 KB\n",
      "    xmltodict-0.12.0           |     pyhd3eb1b0_0          13 KB\n",
      "    zstandard-0.19.0           |   py38h6c40b1e_0         497 KB\n",
      "    ------------------------------------------------------------\n",
      "                                           Total:        28.1 MB\n",
      "\n",
      "The following NEW packages will be INSTALLED:\n",
      "\n",
      "  cctools            pkgs/main/osx-64::cctools-949.0.1-h9abeeb2_23\n",
      "  cctools_osx-64     pkgs/main/osx-64::cctools_osx-64-949.0.1-hc7db93f_23\n",
      "  conda-package-str~ pkgs/main/osx-64::conda-package-streaming-0.7.0-py38hecd8cb5_0\n",
      "  ld64               pkgs/main/osx-64::ld64-530-h20443b4_23\n",
      "  ld64_osx-64        pkgs/main/osx-64::ld64_osx-64-530-h70f3046_23\n",
      "  ldid               pkgs/main/osx-64::ldid-2.1.2-h2d21305_2\n",
      "  libllvm12          pkgs/main/osx-64::libllvm12-12.0.0-h9b2ccf5_3\n",
      "  patch              pkgs/main/osx-64::patch-2.7.6-h1de35cc_1001\n",
      "  tapi               pkgs/main/osx-64::tapi-1000.10.8-ha1b3eb9_0\n",
      "  tomli              pkgs/main/osx-64::tomli-2.0.1-py38hecd8cb5_0\n",
      "  zstandard          pkgs/main/osx-64::zstandard-0.19.0-py38h6c40b1e_0\n",
      "\n",
      "The following packages will be UPDATED:\n",
      "\n",
      "  backports.functoo~                             1.6.1-py_0 --> 1.6.4-pyhd3eb1b0_0\n",
      "  conda                                        4.9.0-py38_0 --> 22.9.0-py38hecd8cb5_0\n",
      "  conda-build                                3.18.11-py38_0 --> 3.24.0-py38hecd8cb5_0\n",
      "  conda-package-han~                   1.7.2-py38h22f3db7_0 --> 2.0.2-py38hecd8cb5_0\n",
      "\n",
      "The following packages will be DOWNGRADED:\n",
      "\n",
      "  backports.tempfile                               1.0-py_1 --> 1.0-pyhd3eb1b0_1\n",
      "  retrying                                       1.3.3-py_2 --> 1.3.3-pyhd3eb1b0_2\n",
      "  xmltodict                                     0.12.0-py_0 --> 0.12.0-pyhd3eb1b0_0\n",
      "\n",
      "\n",
      "Proceed ([y]/n)? "
     ]
    }
   ],
   "source": [
    "# If you have an error with role creation, try to upgrade boto3\n",
    "#%pip install --upgrade boto3\n",
    "#! pip install -U numpy\n",
    "#! pip install -U pandas\n",
    "\n",
    "! conda upgrade pandas"
   ]
  },
  {
   "cell_type": "code",
   "execution_count": null,
   "metadata": {
    "id": "2f8d8caf"
   },
   "outputs": [],
   "source": [
    "import pandas as pd\n",
    "import numpy as np\n",
    "import boto3\n",
    "import urllib.request, json, os, sagemaker\n",
    "from sagemaker import get_execution_role\n",
    "from time import gmtime, strftime\n",
    "from sagemaker.predictor import csv_serializer\n",
    "from sagemaker.tuner import (\n",
    "    IntegerParameter,\n",
    "    CategoricalParameter,\n",
    "    ContinuousParameter,\n",
    "    HyperparameterTuner,\n",
    ")\n",
    "import seaborn as sns\n",
    "import pandas as pd\n",
    "import matplotlib.pyplot as plt"
   ]
  },
  {
   "cell_type": "markdown",
   "metadata": {
    "id": "b6dec985"
   },
   "source": [
    "Get region"
   ]
  },
  {
   "cell_type": "code",
   "execution_count": null,
   "metadata": {
    "id": "ad9446ad",
    "outputId": "ba325605-c693-4633-d2fa-227e869d66c6"
   },
   "outputs": [
    {
     "name": "stdout",
     "output_type": "stream",
     "text": [
      "Region: us-west-2\n"
     ]
    }
   ],
   "source": [
    "my_region = boto3.session.Session().region_name\n",
    "prefix = 'sagemaker/MLI-DEMO-xgboost-dm'\n",
    "\n",
    "print(\"Region: {}\".format(my_region))"
   ]
  },
  {
   "cell_type": "markdown",
   "metadata": {
    "id": "c9ad4e03"
   },
   "source": [
    "Create boto3 object"
   ]
  },
  {
   "cell_type": "code",
   "execution_count": null,
   "metadata": {
    "id": "fbb443be"
   },
   "outputs": [],
   "source": [
    "s3 = boto3.resource('s3')"
   ]
  },
  {
   "cell_type": "markdown",
   "metadata": {
    "id": "aa36e6f3"
   },
   "source": [
    "### Create bucket for model artifacts"
   ]
  },
  {
   "cell_type": "markdown",
   "metadata": {
    "id": "7c4bc68d"
   },
   "source": [
    "Create bucket if you do not have already one.\n",
    "\n",
    "Firstly, set bucket name:"
   ]
  },
  {
   "cell_type": "code",
   "execution_count": null,
   "metadata": {
    "id": "02506edd"
   },
   "outputs": [],
   "source": [
    "bucket_name = 'bah-bucket-sagemaker-course-2023'"
   ]
  },
  {
   "cell_type": "markdown",
   "metadata": {
    "id": "a59f746f"
   },
   "source": [
    "There are some AWS rules how you should name bucket names, here they are:\n",
    "\n",
    "### Bukcet names rules\n",
    "    \n",
    "- Bucket names must be between 3 (min) and 63 (max) characters long.\n",
    "\n",
    "- Bucket names can consist only of lowercase letters, numbers, dots (.), and hyphens (-).\n",
    "\n",
    "- Bucket names must begin and end with a letter or number.\n",
    "\n",
    "- Bucket names must not contain two adjacent periods.\n",
    "\n",
    "- Bucket names must not be formatted as an IP address (for example, 192.168.5.4).\n",
    "\n",
    "- Bucket names must not start with the prefix xn--\n",
    "\n",
    "- Bucket names must not end with the suffix -s3alias.\n",
    "\n",
    "- Bucket names must be unique across all AWS accounts in all the AWS Regions within a partition\n",
    "\n",
    "- A bucket name cannot be used by another AWS account in the same partition until the bucket is deleted.\n",
    "\n",
    "- Buckets used with Amazon S3 Transfer Acceleration can't have dots (.) in their names."
   ]
  },
  {
   "cell_type": "code",
   "execution_count": null,
   "metadata": {
    "id": "14e55423",
    "outputId": "69181e4b-bfe3-48fd-e949-a10981255957"
   },
   "outputs": [
    {
     "name": "stdout",
     "output_type": "stream",
     "text": [
      "Bucket already exists!\n"
     ]
    }
   ],
   "source": [
    "try:\n",
    "    if  my_region == 'us-east-1':\n",
    "        if not s3.Bucket(bucket_name).creation_date:\n",
    "            s3.create_bucket(Bucket=bucket_name)\n",
    "            print('S3 bucket created successfully')\n",
    "        else:\n",
    "            print('Bucket already exists!')\n",
    "    else: \n",
    "        if not s3.Bucket(bucket_name).creation_date:\n",
    "            s3.create_bucket(Bucket=bucket_name, CreateBucketConfiguration={'LocationConstraint': my_region})\n",
    "            print('S3 bucket created successfully')\n",
    "        else:\n",
    "            print('Bucket already exists!')\n",
    "except Exception as e:\n",
    "    print('S3 error: ', e)"
   ]
  },
  {
   "cell_type": "markdown",
   "metadata": {
    "id": "3f98e8d6"
   },
   "source": [
    "NOTE: You can create bucket directly on Amazon S3 UI"
   ]
  },
  {
   "cell_type": "markdown",
   "metadata": {
    "id": "0edc15a5"
   },
   "source": [
    "### Read data from S3.\n",
    "\n",
    "You can download your data from any location online. If you have dataset locally, upload it to S3 and then read it here.\n",
    "\n",
    "NOTE\n",
    "\n",
    "We will download data from bucket that was previously created where datasets are stored for this course."
   ]
  },
  {
   "cell_type": "markdown",
   "metadata": {
    "id": "4e761bc9"
   },
   "source": [
    "**More about dataset:**\n",
    "\n",
    "Breast cancer is the most common cancer amongst women in the world. It accounts for 25% of all cancer cases, and affected over 2.1 Million people in 2015 alone. It starts when cells in the breast begin to grow out of control. These cells usually form tumors that can be seen via X-ray or felt as lumps in the breast area.\n",
    "\n",
    "The key challenges against it’s detection is how to classify tumors into malignant (cancerous) or benign(non cancerous)."
   ]
  },
  {
   "cell_type": "code",
   "execution_count": null,
   "metadata": {
    "id": "5c06d8f6"
   },
   "outputs": [],
   "source": [
    "# This dataset can be found on Kaggle as well: https://www.kaggle.com/datasets/yasserh/breast-cancer-dataset\n",
    "dataset_name = 'breast-cancer.csv'\n",
    "bucket_data_name = 'bah-data'\n",
    "data_location = 's3://{}/{}'.format(bucket_data_name, dataset_name)\n",
    "\n",
    "data = pd.read_csv(data_location)"
   ]
  },
  {
   "cell_type": "code",
   "execution_count": null,
   "metadata": {
    "id": "173a8274",
    "outputId": "34e6b5a3-8984-446d-8a49-1ae9058ce9e2"
   },
   "outputs": [
    {
     "data": {
      "text/html": [
       "<div>\n",
       "<style scoped>\n",
       "    .dataframe tbody tr th:only-of-type {\n",
       "        vertical-align: middle;\n",
       "    }\n",
       "\n",
       "    .dataframe tbody tr th {\n",
       "        vertical-align: top;\n",
       "    }\n",
       "\n",
       "    .dataframe thead th {\n",
       "        text-align: right;\n",
       "    }\n",
       "</style>\n",
       "<table border=\"1\" class=\"dataframe\">\n",
       "  <thead>\n",
       "    <tr style=\"text-align: right;\">\n",
       "      <th></th>\n",
       "      <th>id</th>\n",
       "      <th>diagnosis</th>\n",
       "      <th>radius_mean</th>\n",
       "      <th>texture_mean</th>\n",
       "      <th>perimeter_mean</th>\n",
       "      <th>area_mean</th>\n",
       "      <th>smoothness_mean</th>\n",
       "      <th>compactness_mean</th>\n",
       "      <th>concavity_mean</th>\n",
       "      <th>concave points_mean</th>\n",
       "      <th>...</th>\n",
       "      <th>radius_worst</th>\n",
       "      <th>texture_worst</th>\n",
       "      <th>perimeter_worst</th>\n",
       "      <th>area_worst</th>\n",
       "      <th>smoothness_worst</th>\n",
       "      <th>compactness_worst</th>\n",
       "      <th>concavity_worst</th>\n",
       "      <th>concave points_worst</th>\n",
       "      <th>symmetry_worst</th>\n",
       "      <th>fractal_dimension_worst</th>\n",
       "    </tr>\n",
       "  </thead>\n",
       "  <tbody>\n",
       "    <tr>\n",
       "      <th>0</th>\n",
       "      <td>842302</td>\n",
       "      <td>M</td>\n",
       "      <td>17.99</td>\n",
       "      <td>10.38</td>\n",
       "      <td>122.80</td>\n",
       "      <td>1001.0</td>\n",
       "      <td>0.11840</td>\n",
       "      <td>0.27760</td>\n",
       "      <td>0.3001</td>\n",
       "      <td>0.14710</td>\n",
       "      <td>...</td>\n",
       "      <td>25.38</td>\n",
       "      <td>17.33</td>\n",
       "      <td>184.60</td>\n",
       "      <td>2019.0</td>\n",
       "      <td>0.1622</td>\n",
       "      <td>0.6656</td>\n",
       "      <td>0.7119</td>\n",
       "      <td>0.2654</td>\n",
       "      <td>0.4601</td>\n",
       "      <td>0.11890</td>\n",
       "    </tr>\n",
       "    <tr>\n",
       "      <th>1</th>\n",
       "      <td>842517</td>\n",
       "      <td>M</td>\n",
       "      <td>20.57</td>\n",
       "      <td>17.77</td>\n",
       "      <td>132.90</td>\n",
       "      <td>1326.0</td>\n",
       "      <td>0.08474</td>\n",
       "      <td>0.07864</td>\n",
       "      <td>0.0869</td>\n",
       "      <td>0.07017</td>\n",
       "      <td>...</td>\n",
       "      <td>24.99</td>\n",
       "      <td>23.41</td>\n",
       "      <td>158.80</td>\n",
       "      <td>1956.0</td>\n",
       "      <td>0.1238</td>\n",
       "      <td>0.1866</td>\n",
       "      <td>0.2416</td>\n",
       "      <td>0.1860</td>\n",
       "      <td>0.2750</td>\n",
       "      <td>0.08902</td>\n",
       "    </tr>\n",
       "    <tr>\n",
       "      <th>2</th>\n",
       "      <td>84300903</td>\n",
       "      <td>M</td>\n",
       "      <td>19.69</td>\n",
       "      <td>21.25</td>\n",
       "      <td>130.00</td>\n",
       "      <td>1203.0</td>\n",
       "      <td>0.10960</td>\n",
       "      <td>0.15990</td>\n",
       "      <td>0.1974</td>\n",
       "      <td>0.12790</td>\n",
       "      <td>...</td>\n",
       "      <td>23.57</td>\n",
       "      <td>25.53</td>\n",
       "      <td>152.50</td>\n",
       "      <td>1709.0</td>\n",
       "      <td>0.1444</td>\n",
       "      <td>0.4245</td>\n",
       "      <td>0.4504</td>\n",
       "      <td>0.2430</td>\n",
       "      <td>0.3613</td>\n",
       "      <td>0.08758</td>\n",
       "    </tr>\n",
       "    <tr>\n",
       "      <th>3</th>\n",
       "      <td>84348301</td>\n",
       "      <td>M</td>\n",
       "      <td>11.42</td>\n",
       "      <td>20.38</td>\n",
       "      <td>77.58</td>\n",
       "      <td>386.1</td>\n",
       "      <td>0.14250</td>\n",
       "      <td>0.28390</td>\n",
       "      <td>0.2414</td>\n",
       "      <td>0.10520</td>\n",
       "      <td>...</td>\n",
       "      <td>14.91</td>\n",
       "      <td>26.50</td>\n",
       "      <td>98.87</td>\n",
       "      <td>567.7</td>\n",
       "      <td>0.2098</td>\n",
       "      <td>0.8663</td>\n",
       "      <td>0.6869</td>\n",
       "      <td>0.2575</td>\n",
       "      <td>0.6638</td>\n",
       "      <td>0.17300</td>\n",
       "    </tr>\n",
       "    <tr>\n",
       "      <th>4</th>\n",
       "      <td>84358402</td>\n",
       "      <td>M</td>\n",
       "      <td>20.29</td>\n",
       "      <td>14.34</td>\n",
       "      <td>135.10</td>\n",
       "      <td>1297.0</td>\n",
       "      <td>0.10030</td>\n",
       "      <td>0.13280</td>\n",
       "      <td>0.1980</td>\n",
       "      <td>0.10430</td>\n",
       "      <td>...</td>\n",
       "      <td>22.54</td>\n",
       "      <td>16.67</td>\n",
       "      <td>152.20</td>\n",
       "      <td>1575.0</td>\n",
       "      <td>0.1374</td>\n",
       "      <td>0.2050</td>\n",
       "      <td>0.4000</td>\n",
       "      <td>0.1625</td>\n",
       "      <td>0.2364</td>\n",
       "      <td>0.07678</td>\n",
       "    </tr>\n",
       "  </tbody>\n",
       "</table>\n",
       "<p>5 rows × 32 columns</p>\n",
       "</div>"
      ],
      "text/plain": [
       "         id diagnosis  radius_mean  texture_mean  perimeter_mean  area_mean  \\\n",
       "0    842302         M        17.99         10.38          122.80     1001.0   \n",
       "1    842517         M        20.57         17.77          132.90     1326.0   \n",
       "2  84300903         M        19.69         21.25          130.00     1203.0   \n",
       "3  84348301         M        11.42         20.38           77.58      386.1   \n",
       "4  84358402         M        20.29         14.34          135.10     1297.0   \n",
       "\n",
       "   smoothness_mean  compactness_mean  concavity_mean  concave points_mean  \\\n",
       "0          0.11840           0.27760          0.3001              0.14710   \n",
       "1          0.08474           0.07864          0.0869              0.07017   \n",
       "2          0.10960           0.15990          0.1974              0.12790   \n",
       "3          0.14250           0.28390          0.2414              0.10520   \n",
       "4          0.10030           0.13280          0.1980              0.10430   \n",
       "\n",
       "   ...  radius_worst  texture_worst  perimeter_worst  area_worst  \\\n",
       "0  ...         25.38          17.33           184.60      2019.0   \n",
       "1  ...         24.99          23.41           158.80      1956.0   \n",
       "2  ...         23.57          25.53           152.50      1709.0   \n",
       "3  ...         14.91          26.50            98.87       567.7   \n",
       "4  ...         22.54          16.67           152.20      1575.0   \n",
       "\n",
       "   smoothness_worst  compactness_worst  concavity_worst  concave points_worst  \\\n",
       "0            0.1622             0.6656           0.7119                0.2654   \n",
       "1            0.1238             0.1866           0.2416                0.1860   \n",
       "2            0.1444             0.4245           0.4504                0.2430   \n",
       "3            0.2098             0.8663           0.6869                0.2575   \n",
       "4            0.1374             0.2050           0.4000                0.1625   \n",
       "\n",
       "   symmetry_worst  fractal_dimension_worst  \n",
       "0          0.4601                  0.11890  \n",
       "1          0.2750                  0.08902  \n",
       "2          0.3613                  0.08758  \n",
       "3          0.6638                  0.17300  \n",
       "4          0.2364                  0.07678  \n",
       "\n",
       "[5 rows x 32 columns]"
      ]
     },
     "execution_count": 8,
     "metadata": {},
     "output_type": "execute_result"
    }
   ],
   "source": [
    "data.head()"
   ]
  },
  {
   "cell_type": "markdown",
   "metadata": {
    "id": "c882f07a"
   },
   "source": [
    "## Prepare dataset"
   ]
  },
  {
   "cell_type": "markdown",
   "metadata": {
    "id": "ee1dd91c"
   },
   "source": [
    "#### Check for missing data in all columns"
   ]
  },
  {
   "cell_type": "code",
   "execution_count": null,
   "metadata": {
    "id": "693d07bf",
    "outputId": "df84639f-7c8c-4a9b-ff37-165ebf663006"
   },
   "outputs": [
    {
     "data": {
      "text/plain": [
       "id                         False\n",
       "diagnosis                  False\n",
       "radius_mean                False\n",
       "texture_mean               False\n",
       "perimeter_mean             False\n",
       "area_mean                  False\n",
       "smoothness_mean            False\n",
       "compactness_mean           False\n",
       "concavity_mean             False\n",
       "concave points_mean        False\n",
       "symmetry_mean              False\n",
       "fractal_dimension_mean     False\n",
       "radius_se                  False\n",
       "texture_se                 False\n",
       "perimeter_se               False\n",
       "area_se                    False\n",
       "smoothness_se              False\n",
       "compactness_se             False\n",
       "concavity_se               False\n",
       "concave points_se          False\n",
       "symmetry_se                False\n",
       "fractal_dimension_se       False\n",
       "radius_worst               False\n",
       "texture_worst              False\n",
       "perimeter_worst            False\n",
       "area_worst                 False\n",
       "smoothness_worst           False\n",
       "compactness_worst          False\n",
       "concavity_worst            False\n",
       "concave points_worst       False\n",
       "symmetry_worst             False\n",
       "fractal_dimension_worst    False\n",
       "dtype: bool"
      ]
     },
     "execution_count": 9,
     "metadata": {},
     "output_type": "execute_result"
    }
   ],
   "source": [
    "data.isnull().any()"
   ]
  },
  {
   "cell_type": "markdown",
   "metadata": {
    "id": "0ee1aefb"
   },
   "source": [
    "No column has missing data. Great."
   ]
  },
  {
   "cell_type": "code",
   "execution_count": null,
   "metadata": {
    "id": "b467ee0f",
    "outputId": "ca9bb717-70a3-4caa-b774-396221477728"
   },
   "outputs": [
    {
     "data": {
      "text/plain": [
       "id                           int64\n",
       "diagnosis                   object\n",
       "radius_mean                float64\n",
       "texture_mean               float64\n",
       "perimeter_mean             float64\n",
       "area_mean                  float64\n",
       "smoothness_mean            float64\n",
       "compactness_mean           float64\n",
       "concavity_mean             float64\n",
       "concave points_mean        float64\n",
       "symmetry_mean              float64\n",
       "fractal_dimension_mean     float64\n",
       "radius_se                  float64\n",
       "texture_se                 float64\n",
       "perimeter_se               float64\n",
       "area_se                    float64\n",
       "smoothness_se              float64\n",
       "compactness_se             float64\n",
       "concavity_se               float64\n",
       "concave points_se          float64\n",
       "symmetry_se                float64\n",
       "fractal_dimension_se       float64\n",
       "radius_worst               float64\n",
       "texture_worst              float64\n",
       "perimeter_worst            float64\n",
       "area_worst                 float64\n",
       "smoothness_worst           float64\n",
       "compactness_worst          float64\n",
       "concavity_worst            float64\n",
       "concave points_worst       float64\n",
       "symmetry_worst             float64\n",
       "fractal_dimension_worst    float64\n",
       "dtype: object"
      ]
     },
     "execution_count": 10,
     "metadata": {},
     "output_type": "execute_result"
    }
   ],
   "source": [
    "data.dtypes"
   ]
  },
  {
   "cell_type": "code",
   "execution_count": null,
   "metadata": {
    "id": "0f90078d",
    "outputId": "89ea8c5b-ce7d-497a-acd6-9432746ff317"
   },
   "outputs": [
    {
     "data": {
      "text/plain": [
       "id                         569\n",
       "diagnosis                    2\n",
       "radius_mean                456\n",
       "texture_mean               479\n",
       "perimeter_mean             522\n",
       "area_mean                  539\n",
       "smoothness_mean            474\n",
       "compactness_mean           537\n",
       "concavity_mean             537\n",
       "concave points_mean        542\n",
       "symmetry_mean              432\n",
       "fractal_dimension_mean     499\n",
       "radius_se                  540\n",
       "texture_se                 519\n",
       "perimeter_se               533\n",
       "area_se                    528\n",
       "smoothness_se              547\n",
       "compactness_se             541\n",
       "concavity_se               533\n",
       "concave points_se          507\n",
       "symmetry_se                498\n",
       "fractal_dimension_se       545\n",
       "radius_worst               457\n",
       "texture_worst              511\n",
       "perimeter_worst            514\n",
       "area_worst                 544\n",
       "smoothness_worst           411\n",
       "compactness_worst          529\n",
       "concavity_worst            539\n",
       "concave points_worst       492\n",
       "symmetry_worst             500\n",
       "fractal_dimension_worst    535\n",
       "dtype: int64"
      ]
     },
     "execution_count": 11,
     "metadata": {},
     "output_type": "execute_result"
    }
   ],
   "source": [
    "data.nunique()"
   ]
  },
  {
   "cell_type": "markdown",
   "metadata": {
    "id": "01b79c47"
   },
   "source": [
    "Check for label column distribution"
   ]
  },
  {
   "cell_type": "code",
   "execution_count": null,
   "metadata": {
    "id": "51b9a69c",
    "outputId": "9be6f952-f5ea-4ac2-ffb6-ae1586e8f25d"
   },
   "outputs": [
    {
     "data": {
      "text/plain": [
       "B    357\n",
       "M    212\n",
       "Name: diagnosis, dtype: int64"
      ]
     },
     "execution_count": 12,
     "metadata": {},
     "output_type": "execute_result"
    }
   ],
   "source": [
    "data['diagnosis'].value_counts()"
   ]
  },
  {
   "cell_type": "markdown",
   "metadata": {
    "id": "fef9efd9"
   },
   "source": [
    "Convert target column into numerical representation using LabelEncoder from sklearn"
   ]
  },
  {
   "cell_type": "markdown",
   "metadata": {
    "id": "46a9b2dd"
   },
   "source": [
    "Drop id column"
   ]
  },
  {
   "cell_type": "code",
   "execution_count": null,
   "metadata": {
    "id": "fd5bfbec"
   },
   "outputs": [],
   "source": [
    "data.drop('id', axis=1, inplace=True)"
   ]
  },
  {
   "cell_type": "markdown",
   "metadata": {
    "id": "018a7e2a"
   },
   "source": [
    "Convert target column into numberical representation"
   ]
  },
  {
   "cell_type": "code",
   "execution_count": null,
   "metadata": {
    "id": "61e753f2"
   },
   "outputs": [],
   "source": [
    "from sklearn.preprocessing import LabelEncoder\n",
    "\n",
    "le = LabelEncoder()\n",
    "label = le.fit_transform(data['diagnosis'])\n",
    "\n",
    "data.drop('diagnosis', axis=1, inplace=True)\n",
    "data[\"label\"] = label"
   ]
  },
  {
   "cell_type": "code",
   "execution_count": null,
   "metadata": {
    "id": "b85567ff",
    "outputId": "51865e15-8508-44ed-c79e-6d1550db7405"
   },
   "outputs": [
    {
     "data": {
      "text/html": [
       "<div>\n",
       "<style scoped>\n",
       "    .dataframe tbody tr th:only-of-type {\n",
       "        vertical-align: middle;\n",
       "    }\n",
       "\n",
       "    .dataframe tbody tr th {\n",
       "        vertical-align: top;\n",
       "    }\n",
       "\n",
       "    .dataframe thead th {\n",
       "        text-align: right;\n",
       "    }\n",
       "</style>\n",
       "<table border=\"1\" class=\"dataframe\">\n",
       "  <thead>\n",
       "    <tr style=\"text-align: right;\">\n",
       "      <th></th>\n",
       "      <th>radius_mean</th>\n",
       "      <th>texture_mean</th>\n",
       "      <th>perimeter_mean</th>\n",
       "      <th>area_mean</th>\n",
       "      <th>smoothness_mean</th>\n",
       "      <th>compactness_mean</th>\n",
       "      <th>concavity_mean</th>\n",
       "      <th>concave points_mean</th>\n",
       "      <th>symmetry_mean</th>\n",
       "      <th>fractal_dimension_mean</th>\n",
       "      <th>...</th>\n",
       "      <th>texture_worst</th>\n",
       "      <th>perimeter_worst</th>\n",
       "      <th>area_worst</th>\n",
       "      <th>smoothness_worst</th>\n",
       "      <th>compactness_worst</th>\n",
       "      <th>concavity_worst</th>\n",
       "      <th>concave points_worst</th>\n",
       "      <th>symmetry_worst</th>\n",
       "      <th>fractal_dimension_worst</th>\n",
       "      <th>label</th>\n",
       "    </tr>\n",
       "  </thead>\n",
       "  <tbody>\n",
       "    <tr>\n",
       "      <th>0</th>\n",
       "      <td>17.99</td>\n",
       "      <td>10.38</td>\n",
       "      <td>122.80</td>\n",
       "      <td>1001.0</td>\n",
       "      <td>0.11840</td>\n",
       "      <td>0.27760</td>\n",
       "      <td>0.3001</td>\n",
       "      <td>0.14710</td>\n",
       "      <td>0.2419</td>\n",
       "      <td>0.07871</td>\n",
       "      <td>...</td>\n",
       "      <td>17.33</td>\n",
       "      <td>184.60</td>\n",
       "      <td>2019.0</td>\n",
       "      <td>0.1622</td>\n",
       "      <td>0.6656</td>\n",
       "      <td>0.7119</td>\n",
       "      <td>0.2654</td>\n",
       "      <td>0.4601</td>\n",
       "      <td>0.11890</td>\n",
       "      <td>1</td>\n",
       "    </tr>\n",
       "    <tr>\n",
       "      <th>1</th>\n",
       "      <td>20.57</td>\n",
       "      <td>17.77</td>\n",
       "      <td>132.90</td>\n",
       "      <td>1326.0</td>\n",
       "      <td>0.08474</td>\n",
       "      <td>0.07864</td>\n",
       "      <td>0.0869</td>\n",
       "      <td>0.07017</td>\n",
       "      <td>0.1812</td>\n",
       "      <td>0.05667</td>\n",
       "      <td>...</td>\n",
       "      <td>23.41</td>\n",
       "      <td>158.80</td>\n",
       "      <td>1956.0</td>\n",
       "      <td>0.1238</td>\n",
       "      <td>0.1866</td>\n",
       "      <td>0.2416</td>\n",
       "      <td>0.1860</td>\n",
       "      <td>0.2750</td>\n",
       "      <td>0.08902</td>\n",
       "      <td>1</td>\n",
       "    </tr>\n",
       "    <tr>\n",
       "      <th>2</th>\n",
       "      <td>19.69</td>\n",
       "      <td>21.25</td>\n",
       "      <td>130.00</td>\n",
       "      <td>1203.0</td>\n",
       "      <td>0.10960</td>\n",
       "      <td>0.15990</td>\n",
       "      <td>0.1974</td>\n",
       "      <td>0.12790</td>\n",
       "      <td>0.2069</td>\n",
       "      <td>0.05999</td>\n",
       "      <td>...</td>\n",
       "      <td>25.53</td>\n",
       "      <td>152.50</td>\n",
       "      <td>1709.0</td>\n",
       "      <td>0.1444</td>\n",
       "      <td>0.4245</td>\n",
       "      <td>0.4504</td>\n",
       "      <td>0.2430</td>\n",
       "      <td>0.3613</td>\n",
       "      <td>0.08758</td>\n",
       "      <td>1</td>\n",
       "    </tr>\n",
       "    <tr>\n",
       "      <th>3</th>\n",
       "      <td>11.42</td>\n",
       "      <td>20.38</td>\n",
       "      <td>77.58</td>\n",
       "      <td>386.1</td>\n",
       "      <td>0.14250</td>\n",
       "      <td>0.28390</td>\n",
       "      <td>0.2414</td>\n",
       "      <td>0.10520</td>\n",
       "      <td>0.2597</td>\n",
       "      <td>0.09744</td>\n",
       "      <td>...</td>\n",
       "      <td>26.50</td>\n",
       "      <td>98.87</td>\n",
       "      <td>567.7</td>\n",
       "      <td>0.2098</td>\n",
       "      <td>0.8663</td>\n",
       "      <td>0.6869</td>\n",
       "      <td>0.2575</td>\n",
       "      <td>0.6638</td>\n",
       "      <td>0.17300</td>\n",
       "      <td>1</td>\n",
       "    </tr>\n",
       "    <tr>\n",
       "      <th>4</th>\n",
       "      <td>20.29</td>\n",
       "      <td>14.34</td>\n",
       "      <td>135.10</td>\n",
       "      <td>1297.0</td>\n",
       "      <td>0.10030</td>\n",
       "      <td>0.13280</td>\n",
       "      <td>0.1980</td>\n",
       "      <td>0.10430</td>\n",
       "      <td>0.1809</td>\n",
       "      <td>0.05883</td>\n",
       "      <td>...</td>\n",
       "      <td>16.67</td>\n",
       "      <td>152.20</td>\n",
       "      <td>1575.0</td>\n",
       "      <td>0.1374</td>\n",
       "      <td>0.2050</td>\n",
       "      <td>0.4000</td>\n",
       "      <td>0.1625</td>\n",
       "      <td>0.2364</td>\n",
       "      <td>0.07678</td>\n",
       "      <td>1</td>\n",
       "    </tr>\n",
       "  </tbody>\n",
       "</table>\n",
       "<p>5 rows × 31 columns</p>\n",
       "</div>"
      ],
      "text/plain": [
       "   radius_mean  texture_mean  perimeter_mean  area_mean  smoothness_mean  \\\n",
       "0        17.99         10.38          122.80     1001.0          0.11840   \n",
       "1        20.57         17.77          132.90     1326.0          0.08474   \n",
       "2        19.69         21.25          130.00     1203.0          0.10960   \n",
       "3        11.42         20.38           77.58      386.1          0.14250   \n",
       "4        20.29         14.34          135.10     1297.0          0.10030   \n",
       "\n",
       "   compactness_mean  concavity_mean  concave points_mean  symmetry_mean  \\\n",
       "0           0.27760          0.3001              0.14710         0.2419   \n",
       "1           0.07864          0.0869              0.07017         0.1812   \n",
       "2           0.15990          0.1974              0.12790         0.2069   \n",
       "3           0.28390          0.2414              0.10520         0.2597   \n",
       "4           0.13280          0.1980              0.10430         0.1809   \n",
       "\n",
       "   fractal_dimension_mean  ...  texture_worst  perimeter_worst  area_worst  \\\n",
       "0                 0.07871  ...          17.33           184.60      2019.0   \n",
       "1                 0.05667  ...          23.41           158.80      1956.0   \n",
       "2                 0.05999  ...          25.53           152.50      1709.0   \n",
       "3                 0.09744  ...          26.50            98.87       567.7   \n",
       "4                 0.05883  ...          16.67           152.20      1575.0   \n",
       "\n",
       "   smoothness_worst  compactness_worst  concavity_worst  concave points_worst  \\\n",
       "0            0.1622             0.6656           0.7119                0.2654   \n",
       "1            0.1238             0.1866           0.2416                0.1860   \n",
       "2            0.1444             0.4245           0.4504                0.2430   \n",
       "3            0.2098             0.8663           0.6869                0.2575   \n",
       "4            0.1374             0.2050           0.4000                0.1625   \n",
       "\n",
       "   symmetry_worst  fractal_dimension_worst  label  \n",
       "0          0.4601                  0.11890      1  \n",
       "1          0.2750                  0.08902      1  \n",
       "2          0.3613                  0.08758      1  \n",
       "3          0.6638                  0.17300      1  \n",
       "4          0.2364                  0.07678      1  \n",
       "\n",
       "[5 rows x 31 columns]"
      ]
     },
     "execution_count": 15,
     "metadata": {},
     "output_type": "execute_result"
    }
   ],
   "source": [
    "data.head()"
   ]
  },
  {
   "cell_type": "markdown",
   "metadata": {
    "id": "ab4a7f3e"
   },
   "source": [
    "### Upload train/trest data to s3"
   ]
  },
  {
   "cell_type": "markdown",
   "metadata": {
    "id": "3f318fbc"
   },
   "source": [
    "Firstly, split dataset into train/test and then upload those two files to your s3 bucket"
   ]
  },
  {
   "cell_type": "code",
   "execution_count": null,
   "metadata": {
    "id": "3021861e",
    "outputId": "63ba4372-b7af-4df8-a3d6-532526f06ea9"
   },
   "outputs": [
    {
     "name": "stdout",
     "output_type": "stream",
     "text": [
      "(398, 31) (57, 31) (114, 31)\n"
     ]
    }
   ],
   "source": [
    "train_data, validation_data, test_data = np.split(\n",
    "    data.sample(frac=1, random_state=1729),\n",
    "    [int(0.7 * len(data)), int(0.9 * len(data))],\n",
    ")\n",
    "\n",
    "\n",
    "print(train_data.shape, test_data.shape, validation_data.shape)"
   ]
  },
  {
   "cell_type": "markdown",
   "metadata": {
    "id": "e45164f4"
   },
   "source": [
    "This code reformats the header and first column of the training data and then loads the data from the S3 bucket. This step is required to use the Amazon SageMaker pre-built XGBoost algorithm."
   ]
  },
  {
   "cell_type": "markdown",
   "metadata": {
    "id": "0481b8fc"
   },
   "source": [
    "Prepare Train data and upload it to s3 bucket from where XGBoost algorithm will read train dataset"
   ]
  },
  {
   "cell_type": "code",
   "execution_count": null,
   "metadata": {
    "id": "7deb5b59"
   },
   "outputs": [],
   "source": [
    "label_column = train_data['label']\n",
    "train_data = train_data.drop(['label'], axis=1)\n",
    "train_data = pd.concat([label_column, train_data], axis=1)\n",
    "\n",
    "train_data.to_csv('train.csv', index=False, header=False)\n",
    "\n",
    "boto3.Session().resource('s3').Bucket(bucket_name).Object(os.path.join(prefix, 'train/train.csv')).upload_file('train.csv')\n",
    "s3_input_train = sagemaker.TrainingInput(s3_data='s3://{}/{}/train'.format(bucket_name, prefix), content_type='csv')"
   ]
  },
  {
   "cell_type": "code",
   "execution_count": null,
   "metadata": {
    "id": "b03aa808",
    "outputId": "dd4a08eb-f3b8-4326-aa22-18d1ad16bf82"
   },
   "outputs": [
    {
     "data": {
      "text/html": [
       "<div>\n",
       "<style scoped>\n",
       "    .dataframe tbody tr th:only-of-type {\n",
       "        vertical-align: middle;\n",
       "    }\n",
       "\n",
       "    .dataframe tbody tr th {\n",
       "        vertical-align: top;\n",
       "    }\n",
       "\n",
       "    .dataframe thead th {\n",
       "        text-align: right;\n",
       "    }\n",
       "</style>\n",
       "<table border=\"1\" class=\"dataframe\">\n",
       "  <thead>\n",
       "    <tr style=\"text-align: right;\">\n",
       "      <th></th>\n",
       "      <th>label</th>\n",
       "      <th>radius_mean</th>\n",
       "      <th>texture_mean</th>\n",
       "      <th>perimeter_mean</th>\n",
       "      <th>area_mean</th>\n",
       "      <th>smoothness_mean</th>\n",
       "      <th>compactness_mean</th>\n",
       "      <th>concavity_mean</th>\n",
       "      <th>concave points_mean</th>\n",
       "      <th>symmetry_mean</th>\n",
       "      <th>...</th>\n",
       "      <th>radius_worst</th>\n",
       "      <th>texture_worst</th>\n",
       "      <th>perimeter_worst</th>\n",
       "      <th>area_worst</th>\n",
       "      <th>smoothness_worst</th>\n",
       "      <th>compactness_worst</th>\n",
       "      <th>concavity_worst</th>\n",
       "      <th>concave points_worst</th>\n",
       "      <th>symmetry_worst</th>\n",
       "      <th>fractal_dimension_worst</th>\n",
       "    </tr>\n",
       "  </thead>\n",
       "  <tbody>\n",
       "    <tr>\n",
       "      <th>240</th>\n",
       "      <td>0</td>\n",
       "      <td>13.640</td>\n",
       "      <td>15.60</td>\n",
       "      <td>87.38</td>\n",
       "      <td>575.3</td>\n",
       "      <td>0.09423</td>\n",
       "      <td>0.06630</td>\n",
       "      <td>0.04705</td>\n",
       "      <td>0.03731</td>\n",
       "      <td>0.1717</td>\n",
       "      <td>...</td>\n",
       "      <td>14.85</td>\n",
       "      <td>19.05</td>\n",
       "      <td>94.11</td>\n",
       "      <td>683.4</td>\n",
       "      <td>0.1278</td>\n",
       "      <td>0.1291</td>\n",
       "      <td>0.1533</td>\n",
       "      <td>0.09222</td>\n",
       "      <td>0.2530</td>\n",
       "      <td>0.06510</td>\n",
       "    </tr>\n",
       "    <tr>\n",
       "      <th>337</th>\n",
       "      <td>1</td>\n",
       "      <td>18.770</td>\n",
       "      <td>21.43</td>\n",
       "      <td>122.90</td>\n",
       "      <td>1092.0</td>\n",
       "      <td>0.09116</td>\n",
       "      <td>0.14020</td>\n",
       "      <td>0.10600</td>\n",
       "      <td>0.06090</td>\n",
       "      <td>0.1953</td>\n",
       "      <td>...</td>\n",
       "      <td>24.54</td>\n",
       "      <td>34.37</td>\n",
       "      <td>161.10</td>\n",
       "      <td>1873.0</td>\n",
       "      <td>0.1498</td>\n",
       "      <td>0.4827</td>\n",
       "      <td>0.4634</td>\n",
       "      <td>0.20480</td>\n",
       "      <td>0.3679</td>\n",
       "      <td>0.09870</td>\n",
       "    </tr>\n",
       "    <tr>\n",
       "      <th>65</th>\n",
       "      <td>1</td>\n",
       "      <td>14.780</td>\n",
       "      <td>23.94</td>\n",
       "      <td>97.40</td>\n",
       "      <td>668.3</td>\n",
       "      <td>0.11720</td>\n",
       "      <td>0.14790</td>\n",
       "      <td>0.12670</td>\n",
       "      <td>0.09029</td>\n",
       "      <td>0.1953</td>\n",
       "      <td>...</td>\n",
       "      <td>17.31</td>\n",
       "      <td>33.39</td>\n",
       "      <td>114.60</td>\n",
       "      <td>925.1</td>\n",
       "      <td>0.1648</td>\n",
       "      <td>0.3416</td>\n",
       "      <td>0.3024</td>\n",
       "      <td>0.16140</td>\n",
       "      <td>0.3321</td>\n",
       "      <td>0.08911</td>\n",
       "    </tr>\n",
       "    <tr>\n",
       "      <th>152</th>\n",
       "      <td>0</td>\n",
       "      <td>9.731</td>\n",
       "      <td>15.34</td>\n",
       "      <td>63.78</td>\n",
       "      <td>300.2</td>\n",
       "      <td>0.10720</td>\n",
       "      <td>0.15990</td>\n",
       "      <td>0.41080</td>\n",
       "      <td>0.07857</td>\n",
       "      <td>0.2548</td>\n",
       "      <td>...</td>\n",
       "      <td>11.02</td>\n",
       "      <td>19.49</td>\n",
       "      <td>71.04</td>\n",
       "      <td>380.5</td>\n",
       "      <td>0.1292</td>\n",
       "      <td>0.2772</td>\n",
       "      <td>0.8216</td>\n",
       "      <td>0.15710</td>\n",
       "      <td>0.3108</td>\n",
       "      <td>0.12590</td>\n",
       "    </tr>\n",
       "    <tr>\n",
       "      <th>304</th>\n",
       "      <td>0</td>\n",
       "      <td>11.460</td>\n",
       "      <td>18.16</td>\n",
       "      <td>73.59</td>\n",
       "      <td>403.1</td>\n",
       "      <td>0.08853</td>\n",
       "      <td>0.07694</td>\n",
       "      <td>0.03344</td>\n",
       "      <td>0.01502</td>\n",
       "      <td>0.1411</td>\n",
       "      <td>...</td>\n",
       "      <td>12.68</td>\n",
       "      <td>21.61</td>\n",
       "      <td>82.69</td>\n",
       "      <td>489.8</td>\n",
       "      <td>0.1144</td>\n",
       "      <td>0.1789</td>\n",
       "      <td>0.1226</td>\n",
       "      <td>0.05509</td>\n",
       "      <td>0.2208</td>\n",
       "      <td>0.07638</td>\n",
       "    </tr>\n",
       "  </tbody>\n",
       "</table>\n",
       "<p>5 rows × 31 columns</p>\n",
       "</div>"
      ],
      "text/plain": [
       "     label  radius_mean  texture_mean  perimeter_mean  area_mean  \\\n",
       "240      0       13.640         15.60           87.38      575.3   \n",
       "337      1       18.770         21.43          122.90     1092.0   \n",
       "65       1       14.780         23.94           97.40      668.3   \n",
       "152      0        9.731         15.34           63.78      300.2   \n",
       "304      0       11.460         18.16           73.59      403.1   \n",
       "\n",
       "     smoothness_mean  compactness_mean  concavity_mean  concave points_mean  \\\n",
       "240          0.09423           0.06630         0.04705              0.03731   \n",
       "337          0.09116           0.14020         0.10600              0.06090   \n",
       "65           0.11720           0.14790         0.12670              0.09029   \n",
       "152          0.10720           0.15990         0.41080              0.07857   \n",
       "304          0.08853           0.07694         0.03344              0.01502   \n",
       "\n",
       "     symmetry_mean  ...  radius_worst  texture_worst  perimeter_worst  \\\n",
       "240         0.1717  ...         14.85          19.05            94.11   \n",
       "337         0.1953  ...         24.54          34.37           161.10   \n",
       "65          0.1953  ...         17.31          33.39           114.60   \n",
       "152         0.2548  ...         11.02          19.49            71.04   \n",
       "304         0.1411  ...         12.68          21.61            82.69   \n",
       "\n",
       "     area_worst  smoothness_worst  compactness_worst  concavity_worst  \\\n",
       "240       683.4            0.1278             0.1291           0.1533   \n",
       "337      1873.0            0.1498             0.4827           0.4634   \n",
       "65        925.1            0.1648             0.3416           0.3024   \n",
       "152       380.5            0.1292             0.2772           0.8216   \n",
       "304       489.8            0.1144             0.1789           0.1226   \n",
       "\n",
       "     concave points_worst  symmetry_worst  fractal_dimension_worst  \n",
       "240               0.09222          0.2530                  0.06510  \n",
       "337               0.20480          0.3679                  0.09870  \n",
       "65                0.16140          0.3321                  0.08911  \n",
       "152               0.15710          0.3108                  0.12590  \n",
       "304               0.05509          0.2208                  0.07638  \n",
       "\n",
       "[5 rows x 31 columns]"
      ]
     },
     "execution_count": 18,
     "metadata": {},
     "output_type": "execute_result"
    }
   ],
   "source": [
    "train_data.head()"
   ]
  },
  {
   "cell_type": "markdown",
   "metadata": {
    "id": "95bef7d0"
   },
   "source": [
    "Prepare Validation data and upload it to s3 bucket from where XGBoost algorithm will read validation dataset"
   ]
  },
  {
   "cell_type": "code",
   "execution_count": null,
   "metadata": {
    "id": "2e2fd60d"
   },
   "outputs": [],
   "source": [
    "label_column = validation_data['label']\n",
    "validation_data = validation_data.drop(['label'], axis=1)\n",
    "validation_data = pd.concat([label_column, validation_data], axis=1)\n",
    "\n",
    "validation_data.to_csv('validation.csv', index=False, header=False)\n",
    "\n",
    "boto3.Session().resource(\"s3\").Bucket(bucket_name).Object(os.path.join(prefix, \"validation/validation.csv\")).upload_file(\"validation.csv\")\n",
    "\n",
    "s3_input_validation = sagemaker.TrainingInput(s3_data='s3://{}/{}/validation'.format(bucket_name, prefix), content_type='csv')"
   ]
  },
  {
   "cell_type": "code",
   "execution_count": null,
   "metadata": {
    "id": "36ee70c9",
    "outputId": "a1700c5f-c812-4b22-bd5b-73d696b28276"
   },
   "outputs": [
    {
     "data": {
      "text/html": [
       "<div>\n",
       "<style scoped>\n",
       "    .dataframe tbody tr th:only-of-type {\n",
       "        vertical-align: middle;\n",
       "    }\n",
       "\n",
       "    .dataframe tbody tr th {\n",
       "        vertical-align: top;\n",
       "    }\n",
       "\n",
       "    .dataframe thead th {\n",
       "        text-align: right;\n",
       "    }\n",
       "</style>\n",
       "<table border=\"1\" class=\"dataframe\">\n",
       "  <thead>\n",
       "    <tr style=\"text-align: right;\">\n",
       "      <th></th>\n",
       "      <th>label</th>\n",
       "      <th>radius_mean</th>\n",
       "      <th>texture_mean</th>\n",
       "      <th>perimeter_mean</th>\n",
       "      <th>area_mean</th>\n",
       "      <th>smoothness_mean</th>\n",
       "      <th>compactness_mean</th>\n",
       "      <th>concavity_mean</th>\n",
       "      <th>concave points_mean</th>\n",
       "      <th>symmetry_mean</th>\n",
       "      <th>...</th>\n",
       "      <th>radius_worst</th>\n",
       "      <th>texture_worst</th>\n",
       "      <th>perimeter_worst</th>\n",
       "      <th>area_worst</th>\n",
       "      <th>smoothness_worst</th>\n",
       "      <th>compactness_worst</th>\n",
       "      <th>concavity_worst</th>\n",
       "      <th>concave points_worst</th>\n",
       "      <th>symmetry_worst</th>\n",
       "      <th>fractal_dimension_worst</th>\n",
       "    </tr>\n",
       "  </thead>\n",
       "  <tbody>\n",
       "    <tr>\n",
       "      <th>18</th>\n",
       "      <td>1</td>\n",
       "      <td>19.81</td>\n",
       "      <td>22.15</td>\n",
       "      <td>130.00</td>\n",
       "      <td>1260.0</td>\n",
       "      <td>0.09831</td>\n",
       "      <td>0.10270</td>\n",
       "      <td>0.14790</td>\n",
       "      <td>0.09498</td>\n",
       "      <td>0.1582</td>\n",
       "      <td>...</td>\n",
       "      <td>27.32</td>\n",
       "      <td>30.88</td>\n",
       "      <td>186.80</td>\n",
       "      <td>2398.0</td>\n",
       "      <td>0.1512</td>\n",
       "      <td>0.3150</td>\n",
       "      <td>0.53720</td>\n",
       "      <td>0.23880</td>\n",
       "      <td>0.2768</td>\n",
       "      <td>0.07615</td>\n",
       "    </tr>\n",
       "    <tr>\n",
       "      <th>409</th>\n",
       "      <td>0</td>\n",
       "      <td>12.27</td>\n",
       "      <td>17.92</td>\n",
       "      <td>78.41</td>\n",
       "      <td>466.1</td>\n",
       "      <td>0.08685</td>\n",
       "      <td>0.06526</td>\n",
       "      <td>0.03211</td>\n",
       "      <td>0.02653</td>\n",
       "      <td>0.1966</td>\n",
       "      <td>...</td>\n",
       "      <td>14.10</td>\n",
       "      <td>28.88</td>\n",
       "      <td>89.00</td>\n",
       "      <td>610.2</td>\n",
       "      <td>0.1240</td>\n",
       "      <td>0.1795</td>\n",
       "      <td>0.13770</td>\n",
       "      <td>0.09532</td>\n",
       "      <td>0.3455</td>\n",
       "      <td>0.06896</td>\n",
       "    </tr>\n",
       "    <tr>\n",
       "      <th>384</th>\n",
       "      <td>0</td>\n",
       "      <td>13.28</td>\n",
       "      <td>13.72</td>\n",
       "      <td>85.79</td>\n",
       "      <td>541.8</td>\n",
       "      <td>0.08363</td>\n",
       "      <td>0.08575</td>\n",
       "      <td>0.05077</td>\n",
       "      <td>0.02864</td>\n",
       "      <td>0.1617</td>\n",
       "      <td>...</td>\n",
       "      <td>14.24</td>\n",
       "      <td>17.37</td>\n",
       "      <td>96.59</td>\n",
       "      <td>623.7</td>\n",
       "      <td>0.1166</td>\n",
       "      <td>0.2685</td>\n",
       "      <td>0.28660</td>\n",
       "      <td>0.09173</td>\n",
       "      <td>0.2736</td>\n",
       "      <td>0.07320</td>\n",
       "    </tr>\n",
       "    <tr>\n",
       "      <th>92</th>\n",
       "      <td>0</td>\n",
       "      <td>13.27</td>\n",
       "      <td>14.76</td>\n",
       "      <td>84.74</td>\n",
       "      <td>551.7</td>\n",
       "      <td>0.07355</td>\n",
       "      <td>0.05055</td>\n",
       "      <td>0.03261</td>\n",
       "      <td>0.02648</td>\n",
       "      <td>0.1386</td>\n",
       "      <td>...</td>\n",
       "      <td>16.36</td>\n",
       "      <td>22.35</td>\n",
       "      <td>104.50</td>\n",
       "      <td>830.6</td>\n",
       "      <td>0.1006</td>\n",
       "      <td>0.1238</td>\n",
       "      <td>0.13500</td>\n",
       "      <td>0.10010</td>\n",
       "      <td>0.2027</td>\n",
       "      <td>0.06206</td>\n",
       "    </tr>\n",
       "    <tr>\n",
       "      <th>76</th>\n",
       "      <td>0</td>\n",
       "      <td>13.53</td>\n",
       "      <td>10.94</td>\n",
       "      <td>87.91</td>\n",
       "      <td>559.2</td>\n",
       "      <td>0.12910</td>\n",
       "      <td>0.10470</td>\n",
       "      <td>0.06877</td>\n",
       "      <td>0.06556</td>\n",
       "      <td>0.2403</td>\n",
       "      <td>...</td>\n",
       "      <td>14.08</td>\n",
       "      <td>12.49</td>\n",
       "      <td>91.36</td>\n",
       "      <td>605.5</td>\n",
       "      <td>0.1451</td>\n",
       "      <td>0.1379</td>\n",
       "      <td>0.08539</td>\n",
       "      <td>0.07407</td>\n",
       "      <td>0.2710</td>\n",
       "      <td>0.07191</td>\n",
       "    </tr>\n",
       "  </tbody>\n",
       "</table>\n",
       "<p>5 rows × 31 columns</p>\n",
       "</div>"
      ],
      "text/plain": [
       "     label  radius_mean  texture_mean  perimeter_mean  area_mean  \\\n",
       "18       1        19.81         22.15          130.00     1260.0   \n",
       "409      0        12.27         17.92           78.41      466.1   \n",
       "384      0        13.28         13.72           85.79      541.8   \n",
       "92       0        13.27         14.76           84.74      551.7   \n",
       "76       0        13.53         10.94           87.91      559.2   \n",
       "\n",
       "     smoothness_mean  compactness_mean  concavity_mean  concave points_mean  \\\n",
       "18           0.09831           0.10270         0.14790              0.09498   \n",
       "409          0.08685           0.06526         0.03211              0.02653   \n",
       "384          0.08363           0.08575         0.05077              0.02864   \n",
       "92           0.07355           0.05055         0.03261              0.02648   \n",
       "76           0.12910           0.10470         0.06877              0.06556   \n",
       "\n",
       "     symmetry_mean  ...  radius_worst  texture_worst  perimeter_worst  \\\n",
       "18          0.1582  ...         27.32          30.88           186.80   \n",
       "409         0.1966  ...         14.10          28.88            89.00   \n",
       "384         0.1617  ...         14.24          17.37            96.59   \n",
       "92          0.1386  ...         16.36          22.35           104.50   \n",
       "76          0.2403  ...         14.08          12.49            91.36   \n",
       "\n",
       "     area_worst  smoothness_worst  compactness_worst  concavity_worst  \\\n",
       "18       2398.0            0.1512             0.3150          0.53720   \n",
       "409       610.2            0.1240             0.1795          0.13770   \n",
       "384       623.7            0.1166             0.2685          0.28660   \n",
       "92        830.6            0.1006             0.1238          0.13500   \n",
       "76        605.5            0.1451             0.1379          0.08539   \n",
       "\n",
       "     concave points_worst  symmetry_worst  fractal_dimension_worst  \n",
       "18                0.23880          0.2768                  0.07615  \n",
       "409               0.09532          0.3455                  0.06896  \n",
       "384               0.09173          0.2736                  0.07320  \n",
       "92                0.10010          0.2027                  0.06206  \n",
       "76                0.07407          0.2710                  0.07191  \n",
       "\n",
       "[5 rows x 31 columns]"
      ]
     },
     "execution_count": 20,
     "metadata": {},
     "output_type": "execute_result"
    }
   ],
   "source": [
    "validation_data.head()"
   ]
  },
  {
   "cell_type": "markdown",
   "metadata": {
    "id": "ac9be405"
   },
   "source": [
    "## Train the model using SageMaker built-in algorithm"
   ]
  },
  {
   "cell_type": "markdown",
   "metadata": {
    "id": "bb0b195a"
   },
   "source": [
    "Set up the Amazon SageMaker session, create an instance of the XGBoost model (an estimator), and define the model’s hyperparameters."
   ]
  },
  {
   "cell_type": "markdown",
   "metadata": {
    "id": "aebbd1c7"
   },
   "source": [
    "Create SageMaker session"
   ]
  },
  {
   "cell_type": "code",
   "execution_count": null,
   "metadata": {
    "id": "9020be07"
   },
   "outputs": [],
   "source": [
    "sess = sagemaker.Session()"
   ]
  },
  {
   "cell_type": "markdown",
   "metadata": {
    "id": "37f56b03"
   },
   "source": [
    "Define IAM role"
   ]
  },
  {
   "cell_type": "code",
   "execution_count": null,
   "metadata": {
    "id": "585443c6"
   },
   "outputs": [],
   "source": [
    "role = get_execution_role()"
   ]
  },
  {
   "cell_type": "markdown",
   "metadata": {
    "id": "fd50a344"
   },
   "source": [
    "Specify XGBoost ECR container"
   ]
  },
  {
   "cell_type": "code",
   "execution_count": null,
   "metadata": {
    "id": "df0f1b32"
   },
   "outputs": [],
   "source": [
    "xgboost_container = sagemaker.image_uris.retrieve(\"xgboost\", my_region, \"latest\")"
   ]
  },
  {
   "cell_type": "markdown",
   "metadata": {
    "id": "aea9d138"
   },
   "source": [
    "Create XGBoost Estimator\n",
    "\n"
   ]
  },
  {
   "cell_type": "code",
   "execution_count": null,
   "metadata": {
    "id": "1b693f74",
    "outputId": "cbdcabc8-2eb8-4fcb-a61b-61ee1be0121d"
   },
   "outputs": [
    {
     "name": "stderr",
     "output_type": "stream",
     "text": [
      "train_instance_count has been renamed in sagemaker>=2.\n",
      "See: https://sagemaker.readthedocs.io/en/stable/v2.html for details.\n",
      "train_instance_type has been renamed in sagemaker>=2.\n",
      "See: https://sagemaker.readthedocs.io/en/stable/v2.html for details.\n"
     ]
    }
   ],
   "source": [
    "xgb = sagemaker.estimator.Estimator(xgboost_container,\n",
    "                                    role, \n",
    "                                    train_instance_count=1, \n",
    "                                    train_instance_type='ml.m4.xlarge',\n",
    "                                    output_path='s3://{}/{}/output'.format(bucket_name, prefix),\n",
    "                                    sagemaker_session=sess)"
   ]
  },
  {
   "cell_type": "markdown",
   "metadata": {
    "id": "19eed4fc"
   },
   "source": [
    "Set initial hyperparameters"
   ]
  },
  {
   "cell_type": "code",
   "execution_count": null,
   "metadata": {
    "id": "30d1cec8"
   },
   "outputs": [],
   "source": [
    "xgb.set_hyperparameters(max_depth=5,\n",
    "                        eta=0.2,\n",
    "                        gamma=4,\n",
    "                        min_child_weight=6,\n",
    "                        subsample=0.8,\n",
    "                        silent=0,\n",
    "                        objective='binary:logistic',\n",
    "                        num_round=100)"
   ]
  },
  {
   "cell_type": "markdown",
   "metadata": {
    "id": "d419e5c0"
   },
   "source": [
    "Fit the model"
   ]
  },
  {
   "cell_type": "markdown",
   "metadata": {
    "id": "db5c630b"
   },
   "source": [
    "This code trains the model using gradient optimization on a ml.m4.xlarge instance. After a few minutes, you should see the training logs being generated in your Jupyter notebook."
   ]
  },
  {
   "cell_type": "code",
   "execution_count": null,
   "metadata": {
    "id": "fa59c3f9",
    "outputId": "0bd84781-29a8-433b-ffcf-44038bd34c8b"
   },
   "outputs": [
    {
     "name": "stderr",
     "output_type": "stream",
     "text": [
      "INFO:sagemaker:Creating training-job with name: xgboost-2023-03-16-14-35-29-280\n"
     ]
    },
    {
     "name": "stdout",
     "output_type": "stream",
     "text": [
      "2023-03-16 14:35:29 Starting - Starting the training job......\n",
      "2023-03-16 14:36:07 Starting - Preparing the instances for training......\n",
      "2023-03-16 14:37:15 Downloading - Downloading input data...\n",
      "2023-03-16 14:37:40 Training - Downloading the training image...\n",
      "2023-03-16 14:38:15 Training - Training image download completed. Training in progress..\u001b[34mArguments: train\u001b[0m\n",
      "\u001b[34m[2023-03-16:14:38:29:INFO] Running standalone xgboost training.\u001b[0m\n",
      "\u001b[34m[2023-03-16:14:38:29:INFO] Path /opt/ml/input/data/validation does not exist!\u001b[0m\n",
      "\u001b[34m[2023-03-16:14:38:29:INFO] File size need to be processed in the node: 0.08mb. Available memory size in the node: 8603.4mb\u001b[0m\n",
      "\u001b[34m[2023-03-16:14:38:29:INFO] Determined delimiter of CSV input is ','\u001b[0m\n",
      "\u001b[34m[14:38:29] S3DistributionType set as FullyReplicated\u001b[0m\n",
      "\u001b[34m[14:38:29] 398x30 matrix with 11940 entries loaded from /opt/ml/input/data/train?format=csv&label_column=0&delimiter=,\u001b[0m\n",
      "\u001b[34m[14:38:29] src/tree/updater_prune.cc:74: tree pruning end, 1 roots, 6 extra nodes, 0 pruned nodes, max_depth=2\u001b[0m\n",
      "\u001b[34m[0]#011train-error:0.077889\u001b[0m\n",
      "\u001b[34m[14:38:29] src/tree/updater_prune.cc:74: tree pruning end, 1 roots, 6 extra nodes, 0 pruned nodes, max_depth=2\u001b[0m\n",
      "\u001b[34m[1]#011train-error:0.057789\u001b[0m\n",
      "\u001b[34m[14:38:29] src/tree/updater_prune.cc:74: tree pruning end, 1 roots, 4 extra nodes, 0 pruned nodes, max_depth=2\u001b[0m\n",
      "\u001b[34m[2]#011train-error:0.037688\u001b[0m\n",
      "\u001b[34m[14:38:29] src/tree/updater_prune.cc:74: tree pruning end, 1 roots, 4 extra nodes, 2 pruned nodes, max_depth=2\u001b[0m\n",
      "\u001b[34m[3]#011train-error:0.055276\u001b[0m\n",
      "\u001b[34m[14:38:29] src/tree/updater_prune.cc:74: tree pruning end, 1 roots, 4 extra nodes, 2 pruned nodes, max_depth=2\u001b[0m\n",
      "\u001b[34m[4]#011train-error:0.042714\u001b[0m\n",
      "\u001b[34m[14:38:29] src/tree/updater_prune.cc:74: tree pruning end, 1 roots, 4 extra nodes, 2 pruned nodes, max_depth=2\u001b[0m\n",
      "\u001b[34m[5]#011train-error:0.040201\u001b[0m\n",
      "\u001b[34m[14:38:29] src/tree/updater_prune.cc:74: tree pruning end, 1 roots, 4 extra nodes, 2 pruned nodes, max_depth=2\u001b[0m\n",
      "\u001b[34m[6]#011train-error:0.032663\u001b[0m\n",
      "\u001b[34m[14:38:29] src/tree/updater_prune.cc:74: tree pruning end, 1 roots, 4 extra nodes, 4 pruned nodes, max_depth=2\u001b[0m\n",
      "\u001b[34m[7]#011train-error:0.027638\u001b[0m\n",
      "\u001b[34m[14:38:29] src/tree/updater_prune.cc:74: tree pruning end, 1 roots, 4 extra nodes, 2 pruned nodes, max_depth=2\u001b[0m\n",
      "\u001b[34m[8]#011train-error:0.030151\u001b[0m\n",
      "\u001b[34m[14:38:29] src/tree/updater_prune.cc:74: tree pruning end, 1 roots, 4 extra nodes, 2 pruned nodes, max_depth=2\u001b[0m\n",
      "\u001b[34m[9]#011train-error:0.032663\u001b[0m\n",
      "\u001b[34m[14:38:29] src/tree/updater_prune.cc:74: tree pruning end, 1 roots, 4 extra nodes, 2 pruned nodes, max_depth=2\u001b[0m\n",
      "\u001b[34m[10]#011train-error:0.027638\u001b[0m\n",
      "\u001b[34m[14:38:29] src/tree/updater_prune.cc:74: tree pruning end, 1 roots, 2 extra nodes, 4 pruned nodes, max_depth=1\u001b[0m\n",
      "\u001b[34m[11]#011train-error:0.027638\u001b[0m\n",
      "\u001b[34m[14:38:29] src/tree/updater_prune.cc:74: tree pruning end, 1 roots, 4 extra nodes, 0 pruned nodes, max_depth=2\u001b[0m\n",
      "\u001b[34m[12]#011train-error:0.025126\u001b[0m\n",
      "\u001b[34m[14:38:29] src/tree/updater_prune.cc:74: tree pruning end, 1 roots, 4 extra nodes, 0 pruned nodes, max_depth=2\u001b[0m\n",
      "\u001b[34m[13]#011train-error:0.020101\u001b[0m\n",
      "\u001b[34m[14:38:29] src/tree/updater_prune.cc:74: tree pruning end, 1 roots, 2 extra nodes, 2 pruned nodes, max_depth=1\u001b[0m\n",
      "\u001b[34m[14]#011train-error:0.017588\u001b[0m\n",
      "\u001b[34m[14:38:29] src/tree/updater_prune.cc:74: tree pruning end, 1 roots, 2 extra nodes, 2 pruned nodes, max_depth=1\u001b[0m\n",
      "\u001b[34m[15]#011train-error:0.015075\u001b[0m\n",
      "\u001b[34m[14:38:29] src/tree/updater_prune.cc:74: tree pruning end, 1 roots, 2 extra nodes, 0 pruned nodes, max_depth=1\u001b[0m\n",
      "\u001b[34m[16]#011train-error:0.01005\u001b[0m\n",
      "\u001b[34m[14:38:29] src/tree/updater_prune.cc:74: tree pruning end, 1 roots, 2 extra nodes, 0 pruned nodes, max_depth=1\u001b[0m\n",
      "\u001b[34m[17]#011train-error:0.015075\u001b[0m\n",
      "\u001b[34m[14:38:29] src/tree/updater_prune.cc:74: tree pruning end, 1 roots, 2 extra nodes, 2 pruned nodes, max_depth=1\u001b[0m\n",
      "\u001b[34m[18]#011train-error:0.01005\u001b[0m\n",
      "\u001b[34m[14:38:29] src/tree/updater_prune.cc:74: tree pruning end, 1 roots, 2 extra nodes, 2 pruned nodes, max_depth=1\u001b[0m\n",
      "\u001b[34m[19]#011train-error:0.01005\u001b[0m\n",
      "\u001b[34m[14:38:29] src/tree/updater_prune.cc:74: tree pruning end, 1 roots, 2 extra nodes, 0 pruned nodes, max_depth=1\u001b[0m\n",
      "\u001b[34m[20]#011train-error:0.01005\u001b[0m\n",
      "\u001b[34m[14:38:29] src/tree/updater_prune.cc:74: tree pruning end, 1 roots, 2 extra nodes, 0 pruned nodes, max_depth=1\u001b[0m\n",
      "\u001b[34m[21]#011train-error:0.01005\u001b[0m\n",
      "\u001b[34m[14:38:29] src/tree/updater_prune.cc:74: tree pruning end, 1 roots, 2 extra nodes, 0 pruned nodes, max_depth=1\u001b[0m\n",
      "\u001b[34m[22]#011train-error:0.01005\u001b[0m\n",
      "\u001b[34m[14:38:29] src/tree/updater_prune.cc:74: tree pruning end, 1 roots, 2 extra nodes, 0 pruned nodes, max_depth=1\u001b[0m\n",
      "\u001b[34m[23]#011train-error:0.007538\u001b[0m\n",
      "\u001b[34m[14:38:29] src/tree/updater_prune.cc:74: tree pruning end, 1 roots, 2 extra nodes, 0 pruned nodes, max_depth=1\u001b[0m\n",
      "\u001b[34m[24]#011train-error:0.01005\u001b[0m\n",
      "\u001b[34m[14:38:29] src/tree/updater_prune.cc:74: tree pruning end, 1 roots, 2 extra nodes, 0 pruned nodes, max_depth=1\u001b[0m\n",
      "\u001b[34m[25]#011train-error:0.007538\u001b[0m\n",
      "\u001b[34m[14:38:29] src/tree/updater_prune.cc:74: tree pruning end, 1 roots, 0 extra nodes, 2 pruned nodes, max_depth=0\u001b[0m\n",
      "\u001b[34m[26]#011train-error:0.007538\u001b[0m\n",
      "\u001b[34m[14:38:29] src/tree/updater_prune.cc:74: tree pruning end, 1 roots, 0 extra nodes, 2 pruned nodes, max_depth=0\u001b[0m\n",
      "\u001b[34m[27]#011train-error:0.007538\u001b[0m\n",
      "\u001b[34m[14:38:29] src/tree/updater_prune.cc:74: tree pruning end, 1 roots, 0 extra nodes, 2 pruned nodes, max_depth=0\u001b[0m\n",
      "\u001b[34m[28]#011train-error:0.007538\u001b[0m\n",
      "\u001b[34m[14:38:29] src/tree/updater_prune.cc:74: tree pruning end, 1 roots, 0 extra nodes, 2 pruned nodes, max_depth=0\u001b[0m\n",
      "\u001b[34m[29]#011train-error:0.007538\u001b[0m\n",
      "\u001b[34m[14:38:29] src/tree/updater_prune.cc:74: tree pruning end, 1 roots, 2 extra nodes, 0 pruned nodes, max_depth=1\u001b[0m\n",
      "\u001b[34m[30]#011train-error:0.01005\u001b[0m\n",
      "\u001b[34m[14:38:29] src/tree/updater_prune.cc:74: tree pruning end, 1 roots, 0 extra nodes, 2 pruned nodes, max_depth=0\u001b[0m\n",
      "\u001b[34m[31]#011train-error:0.01005\u001b[0m\n",
      "\u001b[34m[14:38:29] src/tree/updater_prune.cc:74: tree pruning end, 1 roots, 0 extra nodes, 2 pruned nodes, max_depth=0\u001b[0m\n",
      "\u001b[34m[32]#011train-error:0.01005\u001b[0m\n",
      "\u001b[34m[14:38:29] src/tree/updater_prune.cc:74: tree pruning end, 1 roots, 2 extra nodes, 0 pruned nodes, max_depth=1\u001b[0m\n",
      "\u001b[34m[33]#011train-error:0.007538\u001b[0m\n",
      "\u001b[34m[14:38:29] src/tree/updater_prune.cc:74: tree pruning end, 1 roots, 0 extra nodes, 2 pruned nodes, max_depth=0\u001b[0m\n",
      "\u001b[34m[34]#011train-error:0.007538\u001b[0m\n",
      "\u001b[34m[14:38:29] src/tree/updater_prune.cc:74: tree pruning end, 1 roots, 0 extra nodes, 2 pruned nodes, max_depth=0\u001b[0m\n",
      "\u001b[34m[35]#011train-error:0.007538\u001b[0m\n",
      "\u001b[34m[14:38:29] src/tree/updater_prune.cc:74: tree pruning end, 1 roots, 2 extra nodes, 0 pruned nodes, max_depth=1\u001b[0m\n",
      "\u001b[34m[36]#011train-error:0.007538\u001b[0m\n",
      "\u001b[34m[14:38:29] src/tree/updater_prune.cc:74: tree pruning end, 1 roots, 0 extra nodes, 2 pruned nodes, max_depth=0\u001b[0m\n",
      "\u001b[34m[37]#011train-error:0.007538\u001b[0m\n",
      "\u001b[34m[14:38:29] src/tree/updater_prune.cc:74: tree pruning end, 1 roots, 0 extra nodes, 2 pruned nodes, max_depth=0\u001b[0m\n",
      "\u001b[34m[38]#011train-error:0.01005\u001b[0m\n",
      "\u001b[34m[14:38:29] src/tree/updater_prune.cc:74: tree pruning end, 1 roots, 0 extra nodes, 2 pruned nodes, max_depth=0\u001b[0m\n",
      "\u001b[34m[39]#011train-error:0.01005\u001b[0m\n",
      "\u001b[34m[14:38:29] src/tree/updater_prune.cc:74: tree pruning end, 1 roots, 0 extra nodes, 2 pruned nodes, max_depth=0\u001b[0m\n",
      "\u001b[34m[40]#011train-error:0.01005\u001b[0m\n",
      "\u001b[34m[14:38:29] src/tree/updater_prune.cc:74: tree pruning end, 1 roots, 0 extra nodes, 2 pruned nodes, max_depth=0\u001b[0m\n",
      "\u001b[34m[41]#011train-error:0.01005\u001b[0m\n",
      "\u001b[34m[14:38:29] src/tree/updater_prune.cc:74: tree pruning end, 1 roots, 0 extra nodes, 2 pruned nodes, max_depth=0\u001b[0m\n",
      "\u001b[34m[42]#011train-error:0.01005\u001b[0m\n",
      "\u001b[34m[14:38:29] src/tree/updater_prune.cc:74: tree pruning end, 1 roots, 0 extra nodes, 2 pruned nodes, max_depth=0\u001b[0m\n",
      "\u001b[34m[43]#011train-error:0.01005\u001b[0m\n",
      "\u001b[34m[14:38:29] src/tree/updater_prune.cc:74: tree pruning end, 1 roots, 0 extra nodes, 2 pruned nodes, max_depth=0\u001b[0m\n",
      "\u001b[34m[44]#011train-error:0.01005\u001b[0m\n",
      "\u001b[34m[14:38:29] src/tree/updater_prune.cc:74: tree pruning end, 1 roots, 0 extra nodes, 2 pruned nodes, max_depth=0\u001b[0m\n",
      "\u001b[34m[45]#011train-error:0.007538\u001b[0m\n",
      "\u001b[34m[14:38:29] src/tree/updater_prune.cc:74: tree pruning end, 1 roots, 0 extra nodes, 2 pruned nodes, max_depth=0\u001b[0m\n",
      "\u001b[34m[46]#011train-error:0.007538\u001b[0m\n",
      "\u001b[34m[14:38:29] src/tree/updater_prune.cc:74: tree pruning end, 1 roots, 0 extra nodes, 2 pruned nodes, max_depth=0\u001b[0m\n",
      "\u001b[34m[47]#011train-error:0.007538\u001b[0m\n",
      "\u001b[34m[14:38:29] src/tree/updater_prune.cc:74: tree pruning end, 1 roots, 0 extra nodes, 2 pruned nodes, max_depth=0\u001b[0m\n",
      "\u001b[34m[48]#011train-error:0.007538\u001b[0m\n",
      "\u001b[34m[14:38:29] src/tree/updater_prune.cc:74: tree pruning end, 1 roots, 0 extra nodes, 2 pruned nodes, max_depth=0\u001b[0m\n",
      "\u001b[34m[49]#011train-error:0.007538\u001b[0m\n",
      "\u001b[34m[14:38:29] src/tree/updater_prune.cc:74: tree pruning end, 1 roots, 0 extra nodes, 2 pruned nodes, max_depth=0\u001b[0m\n",
      "\u001b[34m[50]#011train-error:0.007538\u001b[0m\n",
      "\u001b[34m[14:38:29] src/tree/updater_prune.cc:74: tree pruning end, 1 roots, 0 extra nodes, 2 pruned nodes, max_depth=0\u001b[0m\n",
      "\u001b[34m[51]#011train-error:0.007538\u001b[0m\n",
      "\u001b[34m[14:38:29] src/tree/updater_prune.cc:74: tree pruning end, 1 roots, 0 extra nodes, 2 pruned nodes, max_depth=0\u001b[0m\n",
      "\u001b[34m[52]#011train-error:0.01005\u001b[0m\n",
      "\u001b[34m[14:38:29] src/tree/updater_prune.cc:74: tree pruning end, 1 roots, 0 extra nodes, 2 pruned nodes, max_depth=0\u001b[0m\n",
      "\u001b[34m[53]#011train-error:0.007538\u001b[0m\n",
      "\u001b[34m[14:38:29] src/tree/updater_prune.cc:74: tree pruning end, 1 roots, 0 extra nodes, 2 pruned nodes, max_depth=0\u001b[0m\n",
      "\u001b[34m[54]#011train-error:0.007538\u001b[0m\n",
      "\u001b[34m[14:38:29] src/tree/updater_prune.cc:74: tree pruning end, 1 roots, 0 extra nodes, 2 pruned nodes, max_depth=0\u001b[0m\n",
      "\u001b[34m[55]#011train-error:0.007538\u001b[0m\n",
      "\u001b[34m[14:38:29] src/tree/updater_prune.cc:74: tree pruning end, 1 roots, 0 extra nodes, 2 pruned nodes, max_depth=0\u001b[0m\n",
      "\u001b[34m[56]#011train-error:0.01005\u001b[0m\n",
      "\u001b[34m[14:38:29] src/tree/updater_prune.cc:74: tree pruning end, 1 roots, 0 extra nodes, 2 pruned nodes, max_depth=0\u001b[0m\n",
      "\u001b[34m[57]#011train-error:0.01005\u001b[0m\n",
      "\u001b[34m[14:38:29] src/tree/updater_prune.cc:74: tree pruning end, 1 roots, 2 extra nodes, 0 pruned nodes, max_depth=1\u001b[0m\n",
      "\u001b[34m[58]#011train-error:0.01005\u001b[0m\n",
      "\u001b[34m[14:38:29] src/tree/updater_prune.cc:74: tree pruning end, 1 roots, 0 extra nodes, 2 pruned nodes, max_depth=0\u001b[0m\n",
      "\u001b[34m[59]#011train-error:0.01005\u001b[0m\n",
      "\u001b[34m[14:38:29] src/tree/updater_prune.cc:74: tree pruning end, 1 roots, 0 extra nodes, 2 pruned nodes, max_depth=0\u001b[0m\n",
      "\u001b[34m[60]#011train-error:0.01005\u001b[0m\n",
      "\u001b[34m[14:38:29] src/tree/updater_prune.cc:74: tree pruning end, 1 roots, 0 extra nodes, 2 pruned nodes, max_depth=0\u001b[0m\n",
      "\u001b[34m[61]#011train-error:0.01005\u001b[0m\n",
      "\u001b[34m[14:38:29] src/tree/updater_prune.cc:74: tree pruning end, 1 roots, 0 extra nodes, 2 pruned nodes, max_depth=0\u001b[0m\n",
      "\u001b[34m[62]#011train-error:0.01005\u001b[0m\n",
      "\u001b[34m[14:38:29] src/tree/updater_prune.cc:74: tree pruning end, 1 roots, 0 extra nodes, 2 pruned nodes, max_depth=0\u001b[0m\n",
      "\u001b[34m[63]#011train-error:0.01005\u001b[0m\n",
      "\u001b[34m[14:38:29] src/tree/updater_prune.cc:74: tree pruning end, 1 roots, 0 extra nodes, 2 pruned nodes, max_depth=0\u001b[0m\n",
      "\u001b[34m[64]#011train-error:0.01005\u001b[0m\n",
      "\u001b[34m[14:38:29] src/tree/updater_prune.cc:74: tree pruning end, 1 roots, 0 extra nodes, 2 pruned nodes, max_depth=0\u001b[0m\n",
      "\u001b[34m[65]#011train-error:0.01005\u001b[0m\n",
      "\u001b[34m[14:38:29] src/tree/updater_prune.cc:74: tree pruning end, 1 roots, 0 extra nodes, 2 pruned nodes, max_depth=0\u001b[0m\n",
      "\u001b[34m[66]#011train-error:0.01005\u001b[0m\n",
      "\u001b[34m[14:38:29] src/tree/updater_prune.cc:74: tree pruning end, 1 roots, 0 extra nodes, 2 pruned nodes, max_depth=0\u001b[0m\n",
      "\u001b[34m[67]#011train-error:0.01005\u001b[0m\n",
      "\u001b[34m[14:38:29] src/tree/updater_prune.cc:74: tree pruning end, 1 roots, 0 extra nodes, 2 pruned nodes, max_depth=0\u001b[0m\n",
      "\u001b[34m[68]#011train-error:0.01005\u001b[0m\n",
      "\u001b[34m[14:38:29] src/tree/updater_prune.cc:74: tree pruning end, 1 roots, 0 extra nodes, 2 pruned nodes, max_depth=0\u001b[0m\n",
      "\u001b[34m[69]#011train-error:0.01005\u001b[0m\n",
      "\u001b[34m[14:38:29] src/tree/updater_prune.cc:74: tree pruning end, 1 roots, 0 extra nodes, 2 pruned nodes, max_depth=0\u001b[0m\n",
      "\u001b[34m[70]#011train-error:0.01005\u001b[0m\n",
      "\u001b[34m[14:38:29] src/tree/updater_prune.cc:74: tree pruning end, 1 roots, 0 extra nodes, 2 pruned nodes, max_depth=0\u001b[0m\n",
      "\u001b[34m[71]#011train-error:0.01005\u001b[0m\n",
      "\u001b[34m[14:38:29] src/tree/updater_prune.cc:74: tree pruning end, 1 roots, 0 extra nodes, 2 pruned nodes, max_depth=0\u001b[0m\n",
      "\u001b[34m[72]#011train-error:0.01005\u001b[0m\n",
      "\u001b[34m[14:38:29] src/tree/updater_prune.cc:74: tree pruning end, 1 roots, 0 extra nodes, 2 pruned nodes, max_depth=0\u001b[0m\n",
      "\u001b[34m[73]#011train-error:0.01005\u001b[0m\n",
      "\u001b[34m[14:38:29] src/tree/updater_prune.cc:74: tree pruning end, 1 roots, 2 extra nodes, 0 pruned nodes, max_depth=1\u001b[0m\n",
      "\u001b[34m[74]#011train-error:0.01005\u001b[0m\n",
      "\u001b[34m[14:38:29] src/tree/updater_prune.cc:74: tree pruning end, 1 roots, 0 extra nodes, 2 pruned nodes, max_depth=0\u001b[0m\n",
      "\u001b[34m[75]#011train-error:0.01005\u001b[0m\n",
      "\u001b[34m[14:38:29] src/tree/updater_prune.cc:74: tree pruning end, 1 roots, 0 extra nodes, 2 pruned nodes, max_depth=0\u001b[0m\n",
      "\u001b[34m[76]#011train-error:0.01005\u001b[0m\n",
      "\u001b[34m[14:38:29] src/tree/updater_prune.cc:74: tree pruning end, 1 roots, 0 extra nodes, 2 pruned nodes, max_depth=0\u001b[0m\n",
      "\u001b[34m[77]#011train-error:0.01005\u001b[0m\n",
      "\u001b[34m[14:38:29] src/tree/updater_prune.cc:74: tree pruning end, 1 roots, 0 extra nodes, 2 pruned nodes, max_depth=0\u001b[0m\n",
      "\u001b[34m[78]#011train-error:0.01005\u001b[0m\n",
      "\u001b[34m[14:38:29] src/tree/updater_prune.cc:74: tree pruning end, 1 roots, 0 extra nodes, 2 pruned nodes, max_depth=0\u001b[0m\n",
      "\u001b[34m[79]#011train-error:0.01005\u001b[0m\n",
      "\u001b[34m[14:38:29] src/tree/updater_prune.cc:74: tree pruning end, 1 roots, 0 extra nodes, 2 pruned nodes, max_depth=0\u001b[0m\n",
      "\u001b[34m[80]#011train-error:0.01005\u001b[0m\n",
      "\u001b[34m[14:38:29] src/tree/updater_prune.cc:74: tree pruning end, 1 roots, 0 extra nodes, 2 pruned nodes, max_depth=0\u001b[0m\n",
      "\u001b[34m[81]#011train-error:0.01005\u001b[0m\n",
      "\u001b[34m[14:38:29] src/tree/updater_prune.cc:74: tree pruning end, 1 roots, 2 extra nodes, 0 pruned nodes, max_depth=1\u001b[0m\n",
      "\u001b[34m[82]#011train-error:0.012563\u001b[0m\n",
      "\u001b[34m[14:38:29] src/tree/updater_prune.cc:74: tree pruning end, 1 roots, 0 extra nodes, 2 pruned nodes, max_depth=0\u001b[0m\n",
      "\u001b[34m[83]#011train-error:0.012563\u001b[0m\n",
      "\u001b[34m[14:38:29] src/tree/updater_prune.cc:74: tree pruning end, 1 roots, 0 extra nodes, 2 pruned nodes, max_depth=0\u001b[0m\n",
      "\u001b[34m[84]#011train-error:0.012563\u001b[0m\n",
      "\u001b[34m[14:38:29] src/tree/updater_prune.cc:74: tree pruning end, 1 roots, 0 extra nodes, 2 pruned nodes, max_depth=0\u001b[0m\n",
      "\u001b[34m[85]#011train-error:0.012563\u001b[0m\n",
      "\u001b[34m[14:38:29] src/tree/updater_prune.cc:74: tree pruning end, 1 roots, 0 extra nodes, 2 pruned nodes, max_depth=0\u001b[0m\n",
      "\u001b[34m[86]#011train-error:0.012563\u001b[0m\n",
      "\u001b[34m[14:38:29] src/tree/updater_prune.cc:74: tree pruning end, 1 roots, 0 extra nodes, 2 pruned nodes, max_depth=0\u001b[0m\n",
      "\u001b[34m[87]#011train-error:0.012563\u001b[0m\n",
      "\u001b[34m[14:38:29] src/tree/updater_prune.cc:74: tree pruning end, 1 roots, 0 extra nodes, 2 pruned nodes, max_depth=0\u001b[0m\n",
      "\u001b[34m[88]#011train-error:0.012563\u001b[0m\n",
      "\u001b[34m[14:38:29] src/tree/updater_prune.cc:74: tree pruning end, 1 roots, 0 extra nodes, 2 pruned nodes, max_depth=0\u001b[0m\n",
      "\u001b[34m[89]#011train-error:0.012563\u001b[0m\n",
      "\u001b[34m[14:38:29] src/tree/updater_prune.cc:74: tree pruning end, 1 roots, 0 extra nodes, 2 pruned nodes, max_depth=0\u001b[0m\n",
      "\u001b[34m[90]#011train-error:0.012563\u001b[0m\n",
      "\u001b[34m[14:38:29] src/tree/updater_prune.cc:74: tree pruning end, 1 roots, 0 extra nodes, 2 pruned nodes, max_depth=0\u001b[0m\n",
      "\u001b[34m[91]#011train-error:0.012563\u001b[0m\n",
      "\u001b[34m[14:38:29] src/tree/updater_prune.cc:74: tree pruning end, 1 roots, 0 extra nodes, 2 pruned nodes, max_depth=0\u001b[0m\n",
      "\u001b[34m[92]#011train-error:0.012563\u001b[0m\n",
      "\u001b[34m[14:38:29] src/tree/updater_prune.cc:74: tree pruning end, 1 roots, 0 extra nodes, 2 pruned nodes, max_depth=0\u001b[0m\n",
      "\u001b[34m[93]#011train-error:0.012563\u001b[0m\n",
      "\u001b[34m[14:38:29] src/tree/updater_prune.cc:74: tree pruning end, 1 roots, 0 extra nodes, 2 pruned nodes, max_depth=0\u001b[0m\n",
      "\u001b[34m[94]#011train-error:0.012563\u001b[0m\n",
      "\u001b[34m[14:38:29] src/tree/updater_prune.cc:74: tree pruning end, 1 roots, 0 extra nodes, 2 pruned nodes, max_depth=0\u001b[0m\n",
      "\u001b[34m[95]#011train-error:0.012563\u001b[0m\n",
      "\u001b[34m[14:38:29] src/tree/updater_prune.cc:74: tree pruning end, 1 roots, 0 extra nodes, 2 pruned nodes, max_depth=0\u001b[0m\n",
      "\u001b[34m[96]#011train-error:0.012563\u001b[0m\n",
      "\u001b[34m[14:38:29] src/tree/updater_prune.cc:74: tree pruning end, 1 roots, 0 extra nodes, 2 pruned nodes, max_depth=0\u001b[0m\n",
      "\u001b[34m[97]#011train-error:0.012563\u001b[0m\n",
      "\u001b[34m[14:38:29] src/tree/updater_prune.cc:74: tree pruning end, 1 roots, 0 extra nodes, 2 pruned nodes, max_depth=0\u001b[0m\n",
      "\u001b[34m[98]#011train-error:0.012563\u001b[0m\n",
      "\u001b[34m[14:38:29] src/tree/updater_prune.cc:74: tree pruning end, 1 roots, 0 extra nodes, 0 pruned nodes, max_depth=0\u001b[0m\n",
      "\u001b[34m[99]#011train-error:0.012563\u001b[0m\n",
      "\n",
      "2023-03-16 14:38:47 Uploading - Uploading generated training model\n",
      "2023-03-16 14:38:47 Completed - Training job completed\n",
      "Training seconds: 93\n",
      "Billable seconds: 93\n"
     ]
    }
   ],
   "source": [
    "xgb.fit({'train': s3_input_train})"
   ]
  },
  {
   "cell_type": "markdown",
   "metadata": {
    "id": "d5b652c0"
   },
   "source": [
    "### Hyperparameters tuninig"
   ]
  },
  {
   "cell_type": "markdown",
   "metadata": {
    "id": "5a786ccb"
   },
   "source": [
    "- We will do some hyperparameter tuning using:\n",
    "    - `Bayesian` optimization \n",
    "    - `Linear` scaling\n",
    "    - Number of jobs is set to be 5 for the purpose of this lecture.\n",
    "    - `Area under the ROC Curve` or `auc` would be used objective metric function for validating the models"
   ]
  },
  {
   "cell_type": "markdown",
   "metadata": {
    "id": "c1aa9e12"
   },
   "source": [
    "We will user `alpha` and `lambda` hyperparameters.\n",
    "\n",
    "`alpha` hyperparameter:\n",
    "- It is L1 regularization term on weights (analogous to Lasso regression).\n",
    "- It can be used in case of very high dimensionality so that the algorithm runs faster when implemented.\n",
    "- Increasing this value will make model more conservative.\n",
    "\n",
    "`lambda` hyperparameter:\n",
    "- It is L2 regularization term on weights (analogous to Ridge regression).\n",
    "- This is used to handle the regularization part of XGBoost.\n",
    "- Increasing this value will make model more conservative."
   ]
  },
  {
   "cell_type": "code",
   "execution_count": null,
   "metadata": {
    "id": "041e742a"
   },
   "outputs": [],
   "source": [
    "objective_metric_name = \"validation:auc\"\n",
    "MAX_JOBS = 5\n",
    "MAX_PARALLEL_JOBS = 4\n",
    "STRATEGY = 'Bayesian'\n",
    "SCALING_TYPE = 'Linear'"
   ]
  },
  {
   "cell_type": "code",
   "execution_count": null,
   "metadata": {
    "id": "4102fe42",
    "outputId": "45036835-59ff-480c-b499-1d4a1d3c1b90"
   },
   "outputs": [
    {
     "name": "stderr",
     "output_type": "stream",
     "text": [
      "INFO:sagemaker:Creating hyperparameter tuning job with name: xgb-linsearch-20230316-14-39-17\n"
     ]
    },
    {
     "name": "stdout",
     "output_type": "stream",
     "text": [
      "..................................................!\n"
     ]
    }
   ],
   "source": [
    "tuninig_job_name = \"xgb-linsearch-\" + strftime(\"%Y%m%d-%H-%M-%S\", gmtime())\n",
    "\n",
    "hyperparameter_ranges_linear = {\n",
    "    \"alpha\": ContinuousParameter(0.05, 1, scaling_type=SCALING_TYPE),\n",
    "    \"lambda\": ContinuousParameter(0.05, 1, scaling_type=SCALING_TYPE),\n",
    "}\n",
    "\n",
    "tuner_linear = HyperparameterTuner(\n",
    "    xgb,\n",
    "    objective_metric_name,\n",
    "    hyperparameter_ranges_linear,\n",
    "    max_jobs=MAX_JOBS,\n",
    "    max_parallel_jobs=MAX_PARALLEL_JOBS,\n",
    "    strategy=STRATEGY,\n",
    ")\n",
    "\n",
    "tuner_linear.fit(\n",
    "    {\"train\": s3_input_train, \"validation\": s3_input_validation},\n",
    "    include_cls_metadata=False,\n",
    "    job_name=tuninig_job_name)"
   ]
  },
  {
   "cell_type": "markdown",
   "metadata": {
    "id": "ee28fc39"
   },
   "source": [
    "Check of the hyperparameter tuning jobs status"
   ]
  },
  {
   "cell_type": "code",
   "execution_count": null,
   "metadata": {
    "id": "c00f2a8b",
    "outputId": "ac96611e-6009-482f-9bbe-599cdce67fad"
   },
   "outputs": [
    {
     "data": {
      "text/plain": [
       "'Completed'"
      ]
     },
     "execution_count": 29,
     "metadata": {},
     "output_type": "execute_result"
    }
   ],
   "source": [
    "boto3.client(\"sagemaker\").describe_hyper_parameter_tuning_job(\n",
    "    HyperParameterTuningJobName=tuner_linear.latest_tuning_job.job_name\n",
    ")[\"HyperParameterTuningJobStatus\"]"
   ]
  },
  {
   "cell_type": "markdown",
   "metadata": {
    "id": "2a8c843b"
   },
   "source": [
    "#### Fetch all results as DataFrame"
   ]
  },
  {
   "cell_type": "markdown",
   "metadata": {
    "id": "bd17fe1d"
   },
   "source": [
    "We can list hyperparameters and objective metrics of all training jobs and pick up the training job with the best objective metric."
   ]
  },
  {
   "cell_type": "code",
   "execution_count": null,
   "metadata": {
    "id": "fb84aee9",
    "outputId": "2512224d-673c-4b32-a10a-1f21f4085adb"
   },
   "outputs": [
    {
     "name": "stdout",
     "output_type": "stream",
     "text": [
      "Number of training jobs with valid objective: 5\n",
      "{'lowest': 0.9771130084991455, 'highest': 0.977446973323822}\n"
     ]
    },
    {
     "data": {
      "text/html": [
       "<div>\n",
       "<style scoped>\n",
       "    .dataframe tbody tr th:only-of-type {\n",
       "        vertical-align: middle;\n",
       "    }\n",
       "\n",
       "    .dataframe tbody tr th {\n",
       "        vertical-align: top;\n",
       "    }\n",
       "\n",
       "    .dataframe thead th {\n",
       "        text-align: right;\n",
       "    }\n",
       "</style>\n",
       "<table border=\"1\" class=\"dataframe\">\n",
       "  <thead>\n",
       "    <tr style=\"text-align: right;\">\n",
       "      <th></th>\n",
       "      <th>alpha</th>\n",
       "      <th>lambda</th>\n",
       "      <th>TrainingJobName</th>\n",
       "      <th>TrainingJobStatus</th>\n",
       "      <th>FinalObjectiveValue</th>\n",
       "      <th>TrainingStartTime</th>\n",
       "      <th>TrainingEndTime</th>\n",
       "      <th>TrainingElapsedTimeSeconds</th>\n",
       "    </tr>\n",
       "  </thead>\n",
       "  <tbody>\n",
       "    <tr>\n",
       "      <th>1</th>\n",
       "      <td>0.133595</td>\n",
       "      <td>0.135777</td>\n",
       "      <td>xgb-linsearch-20230316-14-39-17-004-e8080599</td>\n",
       "      <td>Completed</td>\n",
       "      <td>0.977447</td>\n",
       "      <td>2023-03-16 14:40:42+00:00</td>\n",
       "      <td>2023-03-16 14:42:14+00:00</td>\n",
       "      <td>92.0</td>\n",
       "    </tr>\n",
       "    <tr>\n",
       "      <th>2</th>\n",
       "      <td>0.126246</td>\n",
       "      <td>0.148364</td>\n",
       "      <td>xgb-linsearch-20230316-14-39-17-003-30c3b2fa</td>\n",
       "      <td>Completed</td>\n",
       "      <td>0.977447</td>\n",
       "      <td>2023-03-16 14:41:32+00:00</td>\n",
       "      <td>2023-03-16 14:43:20+00:00</td>\n",
       "      <td>108.0</td>\n",
       "    </tr>\n",
       "    <tr>\n",
       "      <th>3</th>\n",
       "      <td>0.120440</td>\n",
       "      <td>0.141841</td>\n",
       "      <td>xgb-linsearch-20230316-14-39-17-002-99da3aa1</td>\n",
       "      <td>Completed</td>\n",
       "      <td>0.977447</td>\n",
       "      <td>2023-03-16 14:40:56+00:00</td>\n",
       "      <td>2023-03-16 14:42:44+00:00</td>\n",
       "      <td>108.0</td>\n",
       "    </tr>\n",
       "    <tr>\n",
       "      <th>0</th>\n",
       "      <td>0.074075</td>\n",
       "      <td>0.171807</td>\n",
       "      <td>xgb-linsearch-20230316-14-39-17-005-67721c88</td>\n",
       "      <td>Completed</td>\n",
       "      <td>0.977113</td>\n",
       "      <td>2023-03-16 14:41:02+00:00</td>\n",
       "      <td>2023-03-16 14:42:35+00:00</td>\n",
       "      <td>93.0</td>\n",
       "    </tr>\n",
       "    <tr>\n",
       "      <th>4</th>\n",
       "      <td>0.101557</td>\n",
       "      <td>0.124560</td>\n",
       "      <td>xgb-linsearch-20230316-14-39-17-001-1e824bc4</td>\n",
       "      <td>Completed</td>\n",
       "      <td>0.977113</td>\n",
       "      <td>2023-03-16 14:41:24+00:00</td>\n",
       "      <td>2023-03-16 14:43:06+00:00</td>\n",
       "      <td>102.0</td>\n",
       "    </tr>\n",
       "  </tbody>\n",
       "</table>\n",
       "</div>"
      ],
      "text/plain": [
       "      alpha    lambda                               TrainingJobName  \\\n",
       "1  0.133595  0.135777  xgb-linsearch-20230316-14-39-17-004-e8080599   \n",
       "2  0.126246  0.148364  xgb-linsearch-20230316-14-39-17-003-30c3b2fa   \n",
       "3  0.120440  0.141841  xgb-linsearch-20230316-14-39-17-002-99da3aa1   \n",
       "0  0.074075  0.171807  xgb-linsearch-20230316-14-39-17-005-67721c88   \n",
       "4  0.101557  0.124560  xgb-linsearch-20230316-14-39-17-001-1e824bc4   \n",
       "\n",
       "  TrainingJobStatus  FinalObjectiveValue         TrainingStartTime  \\\n",
       "1         Completed             0.977447 2023-03-16 14:40:42+00:00   \n",
       "2         Completed             0.977447 2023-03-16 14:41:32+00:00   \n",
       "3         Completed             0.977447 2023-03-16 14:40:56+00:00   \n",
       "0         Completed             0.977113 2023-03-16 14:41:02+00:00   \n",
       "4         Completed             0.977113 2023-03-16 14:41:24+00:00   \n",
       "\n",
       "            TrainingEndTime  TrainingElapsedTimeSeconds  \n",
       "1 2023-03-16 14:42:14+00:00                        92.0  \n",
       "2 2023-03-16 14:43:20+00:00                       108.0  \n",
       "3 2023-03-16 14:42:44+00:00                       108.0  \n",
       "0 2023-03-16 14:42:35+00:00                        93.0  \n",
       "4 2023-03-16 14:43:06+00:00                       102.0  "
      ]
     },
     "execution_count": 30,
     "metadata": {},
     "output_type": "execute_result"
    }
   ],
   "source": [
    "tuner = sagemaker.HyperparameterTuningJobAnalytics(tuninig_job_name)\n",
    "\n",
    "full_df = tuner.dataframe()\n",
    "\n",
    "if len(full_df) > 0:\n",
    "    df = full_df[full_df[\"FinalObjectiveValue\"] > -float(\"inf\")]\n",
    "    if len(df) > 0:\n",
    "        df = df.sort_values(\"FinalObjectiveValue\", ascending=False)\n",
    "        print(\"Number of training jobs with valid objective: %d\" % len(df))\n",
    "        print({\"lowest\": min(df[\"FinalObjectiveValue\"]), \"highest\": max(df[\"FinalObjectiveValue\"])})\n",
    "        pd.set_option(\"display.max_colwidth\", None)  # Don't truncate TrainingJobName\n",
    "    else:\n",
    "        print(\"No training jobs have reported valid results yet.\")\n",
    "\n",
    "df"
   ]
  },
  {
   "cell_type": "markdown",
   "metadata": {
    "id": "9ff3d900"
   },
   "source": [
    "### Deploy the model"
   ]
  },
  {
   "cell_type": "markdown",
   "metadata": {
    "id": "48042b7e"
   },
   "source": [
    "Wait a little bit.."
   ]
  },
  {
   "cell_type": "code",
   "execution_count": null,
   "metadata": {
    "id": "afc2f85e",
    "outputId": "035d11e2-0a61-4dfc-cab1-0e706a853d55"
   },
   "outputs": [
    {
     "name": "stderr",
     "output_type": "stream",
     "text": [
      "INFO:sagemaker:Creating model with name: xgboost-2023-03-16-14-52-39-726\n",
      "INFO:sagemaker:Creating endpoint-config with name xgboost-2023-03-16-14-52-39-726\n",
      "INFO:sagemaker:Creating endpoint with name xgboost-2023-03-16-14-52-39-726\n"
     ]
    },
    {
     "name": "stdout",
     "output_type": "stream",
     "text": [
      "-------!"
     ]
    }
   ],
   "source": [
    "xgb_predictor = xgb.deploy(initial_instance_count=1, instance_type='ml.m4.xlarge')"
   ]
  },
  {
   "cell_type": "markdown",
   "metadata": {
    "id": "5b7a1f9f"
   },
   "source": [
    "NOTE\n",
    "\n",
    "Only specific size machines are allowed to be used for deployment"
   ]
  },
  {
   "cell_type": "markdown",
   "metadata": {
    "id": "0f01371e"
   },
   "source": [
    "### Testing and evaluating the model"
   ]
  },
  {
   "cell_type": "markdown",
   "metadata": {
    "id": "6fca21d7"
   },
   "source": [
    "Load the test data into an array"
   ]
  },
  {
   "cell_type": "code",
   "execution_count": null,
   "metadata": {
    "id": "f33438bd"
   },
   "outputs": [],
   "source": [
    "test_data_array = test_data.drop(['label'], axis=1).values"
   ]
  },
  {
   "cell_type": "markdown",
   "metadata": {
    "id": "b8a8fed3"
   },
   "source": [
    "Set the serializer type"
   ]
  },
  {
   "cell_type": "code",
   "execution_count": null,
   "metadata": {
    "id": "47fdc53f"
   },
   "outputs": [],
   "source": [
    "xgb_predictor.serializer = csv_serializer"
   ]
  },
  {
   "cell_type": "markdown",
   "metadata": {
    "id": "27faf6f9"
   },
   "source": [
    "Predict on testing data"
   ]
  },
  {
   "cell_type": "code",
   "execution_count": null,
   "metadata": {
    "id": "fb37a8fb",
    "outputId": "2a4cea1c-9a47-4ffe-97ff-217938061c85"
   },
   "outputs": [
    {
     "name": "stderr",
     "output_type": "stream",
     "text": [
      "WARNING:sagemaker.deprecations:The csv_serializer has been renamed in sagemaker>=2.\n",
      "See: https://sagemaker.readthedocs.io/en/stable/v2.html for details.\n"
     ]
    },
    {
     "name": "stdout",
     "output_type": "stream",
     "text": [
      "(57,)\n"
     ]
    }
   ],
   "source": [
    "predictions = xgb_predictor.predict(test_data_array).decode('utf-8')\n",
    "predictions_array = np.fromstring(predictions[1:], sep=',')\n",
    "print(predictions_array.shape)"
   ]
  },
  {
   "cell_type": "markdown",
   "metadata": {
    "id": "58f3865a"
   },
   "source": [
    "### Evaluate the model performance"
   ]
  },
  {
   "cell_type": "markdown",
   "metadata": {
    "id": "0b14d68e"
   },
   "source": [
    "To remind:\n",
    "\n",
    "The key challenges was is how to classify tumors into malignant (cancerous) or benign(non cancerous)."
   ]
  },
  {
   "cell_type": "code",
   "execution_count": null,
   "metadata": {
    "id": "19db79e3",
    "outputId": "bd28f689-2733-4b82-f07d-c304600b98a0"
   },
   "outputs": [
    {
     "name": "stdout",
     "output_type": "stream",
     "text": [
      "              precision    recall  f1-score   support\n",
      "\n",
      "      benign       0.97      0.97      0.97        40\n",
      "   malignant       0.94      0.94      0.94        17\n",
      "\n",
      "    accuracy                           0.96        57\n",
      "   macro avg       0.96      0.96      0.96        57\n",
      "weighted avg       0.96      0.96      0.96        57\n",
      "\n"
     ]
    }
   ],
   "source": [
    "from sklearn.metrics import classification_report\n",
    "print(classification_report(test_data['label'], np.round(predictions_array), target_names=['benign', 'malignant']))"
   ]
  },
  {
   "cell_type": "markdown",
   "metadata": {
    "id": "3a5c2312"
   },
   "source": [
    "### Terminate your resources\n",
    "\n",
    "Do not forget!"
   ]
  },
  {
   "cell_type": "code",
   "execution_count": null,
   "metadata": {
    "id": "a4a7d1d1",
    "outputId": "9de8ea74-6a9a-43f9-9e3b-a03aedfcfb54"
   },
   "outputs": [
    {
     "name": "stderr",
     "output_type": "stream",
     "text": [
      "INFO:sagemaker:Deleting endpoint with name: xgboost-2023-03-16-14-52-39-726\n"
     ]
    },
    {
     "data": {
      "text/plain": [
       "[{'ResponseMetadata': {'RequestId': '9X2SY0C7WBT3AA73',\n",
       "   'HostId': 'S0QOK0c5tF70NnbjqWX7Jyau1Zp7oB09pWeSPfpGkI5+2clXy57CTk1yLZIx/yJCXUoJnqp7eiM=',\n",
       "   'HTTPStatusCode': 200,\n",
       "   'HTTPHeaders': {'x-amz-id-2': 'S0QOK0c5tF70NnbjqWX7Jyau1Zp7oB09pWeSPfpGkI5+2clXy57CTk1yLZIx/yJCXUoJnqp7eiM=',\n",
       "    'x-amz-request-id': '9X2SY0C7WBT3AA73',\n",
       "    'date': 'Thu, 16 Mar 2023 14:56:14 GMT',\n",
       "    'content-type': 'application/xml',\n",
       "    'transfer-encoding': 'chunked',\n",
       "    'server': 'AmazonS3',\n",
       "    'connection': 'close'},\n",
       "   'RetryAttempts': 0},\n",
       "  'Deleted': [{'Key': 'sagemaker/MLI-DEMO-xgboost-dm/output/xgboost-2023-03-16-14-35-29-280/profiler-output/framework/training_job_end.ts'},\n",
       "   {'Key': 'sagemaker/MLI-DEMO-xgboost-dm/output/xgb-linsearch-20230316-14-39-17-002-99da3aa1/output/model.tar.gz'},\n",
       "   {'Key': 'sagemaker/MLI-DEMO-xgboost-dm/output/xgb-linsearch-20230316-14-39-17-001-1e824bc4/output/model.tar.gz'},\n",
       "   {'Key': 'sagemaker/MLI-DEMO-xgboost-dm/output/xgboost-2023-03-16-14-35-29-280/profiler-output/system/training_job_end.ts'},\n",
       "   {'Key': 'sagemaker/MLI-DEMO-xgboost-dm/output/xgb-linsearch-20230316-14-39-17-005-67721c88/output/model.tar.gz'},\n",
       "   {'Key': 'sagemaker/MLI-DEMO-xgboost-dm/output/xgboost-2023-03-16-14-35-29-280/output/model.tar.gz'},\n",
       "   {'Key': 'sagemaker/MLI-DEMO-xgboost-dm/output/xgboost-2023-03-16-14-35-29-280/profiler-output/system/incremental/2023031614/1678977480.algo-1.json'},\n",
       "   {'Key': 'sagemaker/MLI-DEMO-xgboost-dm/validation/validation.csv'},\n",
       "   {'Key': 'sagemaker/MLI-DEMO-xgboost-dm/train/train.csv'},\n",
       "   {'Key': 'sagemaker/MLI-DEMO-xgboost-dm/output/xgb-linsearch-20230316-14-39-17-003-30c3b2fa/output/model.tar.gz'},\n",
       "   {'Key': 'sagemaker/MLI-DEMO-xgboost-dm/output/xgboost-2023-03-16-14-35-29-280/profiler-output/system/incremental/2023031614/1678977420.algo-1.json'},\n",
       "   {'Key': 'sagemaker/MLI-DEMO-xgboost-dm/output/xgb-linsearch-20230316-14-39-17-004-e8080599/output/model.tar.gz'},\n",
       "   {'Key': 'sagemaker/MLI-DEMO-xgboost-dm/output/xgboost-2023-03-16-14-35-29-280/debug-output/training_job_end.ts'}]}]"
      ]
     },
     "execution_count": 36,
     "metadata": {},
     "output_type": "execute_result"
    }
   ],
   "source": [
    "sess.delete_endpoint(endpoint_name=xgb_predictor.endpoint_name)\n",
    "bucket_to_delete = boto3.resource('s3').Bucket(bucket_name)\n",
    "bucket_to_delete.objects.all().delete()"
   ]
  },
  {
   "cell_type": "code",
   "execution_count": null,
   "metadata": {
    "id": "3e40cab4"
   },
   "outputs": [],
   "source": []
  }
 ],
 "metadata": {
  "colab": {
   "provenance": []
  },
  "kernelspec": {
   "display_name": "Python 3",
   "language": "python",
   "name": "python3"
  },
  "language_info": {
   "codemirror_mode": {
    "name": "ipython",
    "version": 3
   },
   "file_extension": ".py",
   "mimetype": "text/x-python",
   "name": "python",
   "nbconvert_exporter": "python",
   "pygments_lexer": "ipython3",
   "version": "3.8.3"
  }
 },
 "nbformat": 4,
 "nbformat_minor": 5
}
